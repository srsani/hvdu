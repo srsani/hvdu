{
 "cells": [
  {
   "cell_type": "code",
   "execution_count": 1,
   "metadata": {},
   "outputs": [
    {
     "data": {
      "text/html": [
       "<style>.container { width:80% !important; }</style>"
      ],
      "text/plain": [
       "<IPython.core.display.HTML object>"
      ]
     },
     "metadata": {},
     "output_type": "display_data"
    }
   ],
   "source": [
    "from utilities import * \n",
    "from IPython.display import display, HTML\n",
    "display(HTML(\"<style>.container { width:80% !important; }</style>\"))\n",
    "%load_ext autoreload\n",
    "%autoreload 2"
   ]
  },
  {
   "cell_type": "code",
   "execution_count": 2,
   "metadata": {},
   "outputs": [
    {
     "data": {
      "text/plain": [
       "2097"
      ]
     },
     "execution_count": 2,
     "metadata": {},
     "output_type": "execute_result"
    }
   ],
   "source": [
    "# list of all the images after one clenaing\n",
    "keys_all = [f\"{image_path[image_path.rfind('/')+1:-5]}.png\" for image_path in glob.glob(f'../dataset/raw/nist/keys/*.json')]\n",
    "# list of all the images after two clenaing\n",
    "keys_2nd = [f\"{image_path[image_path.rfind('/')+1:-5]}.png\" for image_path in glob.glob(f'../dataset/raw/nist/keys_2nd/*.json')]\n",
    "# list of all the images left to check\n",
    "todo_list = [x for x in keys_all if x not in keys_2nd]\n",
    "len(todo_list)"
   ]
  },
  {
   "cell_type": "code",
   "execution_count": 3037,
   "metadata": {},
   "outputs": [
    {
     "data": {
      "text/plain": [
       "14"
      ]
     },
     "execution_count": 3037,
     "metadata": {},
     "output_type": "execute_result"
    }
   ],
   "source": [
    "len(todo_list)"
   ]
  },
  {
   "cell_type": "code",
   "execution_count": 3051,
   "metadata": {
    "scrolled": true
   },
   "outputs": [
    {
     "name": "stdout",
     "output_type": "stream",
     "text": [
      "Image name: f1671_40.png\n",
      "{'DATE': '9-15-89', 'CITY': 'ENGLEWOOD', 'STATE': 'COLORADO', 'ZIP': '80110'}\n"
     ]
    },
    {
     "data": {
      "image/png": "[encoded data removed]",
      "text/plain": [
       "<PIL.PngImagePlugin.PngImageFile image mode=1 size=2460x350 at 0x7FABD9CE21C0>"
      ]
     },
     "execution_count": 3051,
     "metadata": {},
     "output_type": "execute_result"
    }
   ],
   "source": [
    "done_list = []\n",
    "for image_name in todo_list:\n",
    "    print(f\"Image name: {image_name}\")\n",
    "    done_list.append(image_name)\n",
    "    \n",
    "    # load the .png file\n",
    "    image_path = f\"../dataset/raw/nist/nist_data/{image_name}\"\n",
    "    image = Image.open(image_path).convert(\"RGB\")\n",
    "    \n",
    "    # loading json file \n",
    "    with open(f'../dataset/raw/nist/keys/{image_name[:-4]}.json') as f:\n",
    "        dict_ = json.load(f)\n",
    "    \n",
    " \n",
    "    # save json to keys_2nd folder\n",
    "    save_json_2nd(image_name, todo_list, dict_ )\n",
    "    print(dict_)\n",
    "    img = draw_(image_path, dict_)\n",
    "    break\n",
    "img"
   ]
  },
  {
   "cell_type": "code",
   "execution_count": 3033,
   "metadata": {},
   "outputs": [
    {
     "name": "stdout",
     "output_type": "stream",
     "text": [
      "f1658_04.png has already removed\n",
      "f1658_04.png\n"
     ]
    }
   ],
   "source": [
    "# dict_['DATE'] = \"SEP. 19, 1989\"\n",
    "dict_['CITY'] = \"ENgLEWOOD\"\n",
    "# dict_['STATE'] = \"Co.\"\n",
    "# dict_['ZIP'] = \"ZIP\"\n",
    "\n",
    "save_json_2nd(image_name,\n",
    "              todo_list,\n",
    "              dict_ )\n",
    "print(image_name)"
   ]
  },
  {
   "cell_type": "code",
   "execution_count": 3034,
   "metadata": {},
   "outputs": [
    {
     "data": {
      "text/plain": [
       "{'DATE': '09/18/89', 'CITY': 'FT. COLLINS', 'STATE': 'Co.', 'ZIP': '80524'}"
      ]
     },
     "execution_count": 3034,
     "metadata": {},
     "output_type": "execute_result"
    }
   ],
   "source": [
    "dict_"
   ]
  },
  {
   "cell_type": "code",
   "execution_count": 1195,
   "metadata": {},
   "outputs": [
    {
     "data": {
      "text/plain": [
       "['f0456_45.png']"
      ]
     },
     "execution_count": 1195,
     "metadata": {},
     "output_type": "execute_result"
    }
   ],
   "source": [
    "done_list"
   ]
  },
  {
   "cell_type": "code",
   "execution_count": 2917,
   "metadata": {},
   "outputs": [],
   "source": [
    "# all added to the removed list; TAKL ABOUT THIS 'f1958_33.png'\n",
    "remove_list = ['f1133_00.png', 'f1506_35.png', 'f0477_46.png','f1408_02.png']"
   ]
  },
  {
   "cell_type": "code",
   "execution_count": 2671,
   "metadata": {},
   "outputs": [],
   "source": [
    "# checked looks good\n",
    "completely_wrong_list_json1st = ['f0721_31.png','f1632_39.png','f1242_30.png','f1230_10.png','f0092_16.png']"
   ]
  },
  {
   "cell_type": "code",
   "execution_count": 2769,
   "metadata": {},
   "outputs": [],
   "source": [
    "# checked looks good\n",
    "#Example: f0980_43.png: on the image: CITY': 'So Weymouth', 1st extraction: CITY': 'South Weymouth\n",
    "extraction_with_added_text_strange = ['f0980_43.png','f0575_25.png','f0361_07.png']"
   ]
  },
  {
   "cell_type": "code",
   "execution_count": 2893,
   "metadata": {},
   "outputs": [],
   "source": [
    "# checked looks good\n",
    "extraction_with_missing_text_strange = ['f1337_29.png']"
   ]
  },
  {
   "cell_type": "markdown",
   "metadata": {},
   "source": [
    "# Manual check"
   ]
  },
  {
   "cell_type": "code",
   "execution_count": 31,
   "metadata": {},
   "outputs": [
    {
     "name": "stdout",
     "output_type": "stream",
     "text": [
      "{'DATE': '09/26/89', 'CITY': 'Hilton', 'STATE': 'Iawa', 'ZIP': '52778'}\n"
     ]
    },
    {
     "data": {
      "image/png": "[encoded data removed]",
      "text/plain": [
       "<PIL.PngImagePlugin.PngImageFile image mode=1 size=2460x350>"
      ]
     },
     "execution_count": 31,
     "metadata": {},
     "output_type": "execute_result"
    }
   ],
   "source": [
    "image_name = 'f1958_33.png'\n",
    "image_path = f\"../dataset/raw/nist/nist_data/{image_name}\"\n",
    "image = Image.open(image_path).convert(\"RGB\")\n",
    "    \n",
    "# loading json file \n",
    "with open(f'../dataset/raw/nist/keys_2nd/{image_name[:-4]}.json') as f:\n",
    "    dict_ = json.load(f)\n",
    "\n",
    "print(dict_)\n",
    "img = draw_(image_path, dict_)\n",
    "img"
   ]
  },
  {
   "cell_type": "code",
   "execution_count": null,
   "metadata": {},
   "outputs": [],
   "source": []
  }
 ],
 "metadata": {
  "kernelspec": {
   "display_name": "ocr37",
   "language": "python",
   "name": "ocr37"
  },
  "language_info": {
   "codemirror_mode": {
    "name": "ipython",
    "version": 3
   },
   "file_extension": ".py",
   "mimetype": "text/x-python",
   "name": "python",
   "nbconvert_exporter": "python",
   "pygments_lexer": "ipython3",
   "version": "3.7.16"
  },
  "toc": {
   "base_numbering": 1,
   "nav_menu": {},
   "number_sections": true,
   "sideBar": true,
   "skip_h1_title": false,
   "title_cell": "Table of Contents",
   "title_sidebar": "Contents",
   "toc_cell": false,
   "toc_position": {},
   "toc_section_display": true,
   "toc_window_display": false
  }
 },
 "nbformat": 4,
 "nbformat_minor": 5
}
