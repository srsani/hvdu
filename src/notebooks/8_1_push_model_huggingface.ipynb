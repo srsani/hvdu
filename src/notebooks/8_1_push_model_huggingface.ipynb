{
 "cells": [
  {
   "cell_type": "code",
   "execution_count": 1,
   "metadata": {},
   "outputs": [],
   "source": [
    "from huggingface_hub import HfApi\n",
    "# login(token = access_token_read)"
   ]
  },
  {
   "cell_type": "code",
   "execution_count": 2,
   "metadata": {},
   "outputs": [],
   "source": [
    "api = HfApi()"
   ]
  },
  {
   "cell_type": "code",
   "execution_count": 3,
   "metadata": {},
   "outputs": [
    {
     "name": "stderr",
     "output_type": "stream",
     "text": [
      "/home/sohrab/anaconda3/envs/ocr37/lib/python3.7/site-packages/huggingface_hub/utils/_experimental.py:61: UserWarning: 'plan_multi_commits' is experimental and might be subject to breaking changes in the future. You can disable this warning by setting `HF_HUB_DISABLE_EXPERIMENTAL_WARNING=1` as environment variable.\n",
      "  UserWarning,\n",
      "/home/sohrab/anaconda3/envs/ocr37/lib/python3.7/site-packages/huggingface_hub/utils/_experimental.py:61: UserWarning: 'create_commits_on_pr' is experimental and might be subject to breaking changes in the future. You can disable this warning by setting `HF_HUB_DISABLE_EXPERIMENTAL_WARNING=1` as environment variable.\n",
      "  UserWarning,\n",
      "Will create 0 deletion commit(s) and 2 addition commit(s), totalling 10 atomic operations.\n",
      "Multi-commits strategy with ID 7e346d23e0f5439e5d93e72cbd772a4efe4e3cb448a6a06c1cdeaaf70db7fd2c.\n",
      "New PR created: https://huggingface.co/ift/handwriting_forms/discussions/1\n"
     ]
    },
    {
     "data": {
      "application/vnd.jupyter.widget-view+json": {
       "model_id": "7c455c675d1b4ce79514c97415f87f7d",
       "version_major": 2,
       "version_minor": 0
      },
      "text/plain": [
       "Upload 2 LFS files:   0%|          | 0/2 [00:00<?, ?it/s]"
      ]
     },
     "metadata": {},
     "output_type": "display_data"
    },
    {
     "data": {
      "application/vnd.jupyter.widget-view+json": {
       "model_id": "5782cf36381644a2b51b8eb7fffa10b4",
       "version_major": 2,
       "version_minor": 0
      },
      "text/plain": [
       "events.out.tfevents.1693578329.phy-deino.physics.uu.se.10978.0:   0%|          | 0.00/62.8k [00:00<?, ?B/s]"
      ]
     },
     "metadata": {},
     "output_type": "display_data"
    },
    {
     "data": {
      "application/vnd.jupyter.widget-view+json": {
       "model_id": "d5983583b1874f64b284f41d3967ac37",
       "version_major": 2,
       "version_minor": 0
      },
      "text/plain": [
       "artifacts.ckpt:   0%|          | 0.00/1.61G [00:00<?, ?B/s]"
      ]
     },
     "metadata": {},
     "output_type": "display_data"
    },
    {
     "name": "stderr",
     "output_type": "stream",
     "text": [
      "  step a4b6406b8f1a46946998ff0680c37afd2e6785ba6f60e541d5656c6e89f9d1ff completed (still 1 to go).\n"
     ]
    },
    {
     "data": {
      "application/vnd.jupyter.widget-view+json": {
       "model_id": "a80594ab64cf4b06a21a47b2e69ae4c5",
       "version_major": 2,
       "version_minor": 0
      },
      "text/plain": [
       "Upload 2 LFS files:   0%|          | 0/2 [00:00<?, ?it/s]"
      ]
     },
     "metadata": {},
     "output_type": "display_data"
    },
    {
     "data": {
      "application/vnd.jupyter.widget-view+json": {
       "model_id": "7a4ea46400c549dc8a50ca35c81989ce",
       "version_major": 2,
       "version_minor": 0
      },
      "text/plain": [
       "pytorch_model.bin:   0%|          | 0.00/858M [00:00<?, ?B/s]"
      ]
     },
     "metadata": {},
     "output_type": "display_data"
    },
    {
     "data": {
      "application/vnd.jupyter.widget-view+json": {
       "model_id": "f2ac7d5b50f14f5dab2c78a13f66053e",
       "version_major": 2,
       "version_minor": 0
      },
      "text/plain": [
       "sentencepiece.bpe.model:   0%|          | 0.00/1.30M [00:00<?, ?B/s]"
      ]
     },
     "metadata": {},
     "output_type": "display_data"
    },
    {
     "name": "stderr",
     "output_type": "stream",
     "text": [
      "  step 36fd5f27c341f4beb343e8ea61bd53b2ece2552486de051e5916ceaa89eb599f completed (still 0 to go).\n",
      "All commits have been pushed.\n",
      "PR is now open for reviews.\n",
      "PR has been automatically merged (`merge_pr=True` was passed).\n"
     ]
    },
    {
     "data": {
      "text/plain": [
       "'https://huggingface.co/ift/handwriting_forms/tree/main/'"
      ]
     },
     "execution_count": 3,
     "metadata": {},
     "output_type": "execute_result"
    }
   ],
   "source": [
    "api.upload_folder(\n",
    "    folder_path=\"../result/train_nist/20230901_162511\",\n",
    "    repo_id=\"ift/handwriting_forms\",\n",
    "    repo_type=\"model\",\n",
    "    multi_commits=True,\n",
    "    multi_commits_verbose=True,\n",
    ")"
   ]
  },
  {
   "cell_type": "code",
   "execution_count": null,
   "metadata": {},
   "outputs": [],
   "source": []
  }
 ],
 "metadata": {
  "kernelspec": {
   "display_name": "ocr37",
   "language": "python",
   "name": "ocr37"
  },
  "language_info": {
   "codemirror_mode": {
    "name": "ipython",
    "version": 3
   },
   "file_extension": ".py",
   "mimetype": "text/x-python",
   "name": "python",
   "nbconvert_exporter": "python",
   "pygments_lexer": "ipython3",
   "version": "3.7.16"
  },
  "toc": {
   "base_numbering": 1,
   "nav_menu": {},
   "number_sections": true,
   "sideBar": true,
   "skip_h1_title": false,
   "title_cell": "Table of Contents",
   "title_sidebar": "Contents",
   "toc_cell": false,
   "toc_position": {},
   "toc_section_display": true,
   "toc_window_display": false
  }
 },
 "nbformat": 4,
 "nbformat_minor": 4
}
