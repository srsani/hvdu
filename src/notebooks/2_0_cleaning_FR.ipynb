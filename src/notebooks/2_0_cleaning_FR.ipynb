{
 "cells": [
  {
   "cell_type": "markdown",
   "metadata": {},
   "source": [
    "# Cleaning the Azure Form recognizer results"
   ]
  },
  {
   "cell_type": "code",
   "execution_count": 4,
   "metadata": {},
   "outputs": [
    {
     "data": {
      "text/html": [
       "<style>.container { width:80% !important; }</style>"
      ],
      "text/plain": [
       "<IPython.core.display.HTML object>"
      ]
     },
     "metadata": {},
     "output_type": "display_data"
    }
   ],
   "source": [
    "from utilities import * \n",
    "from IPython.display import display, HTML\n",
    "display(HTML(\"<style>.container { width:80% !important; }</style>\"))\n",
    "%load_ext autoreload\n",
    "%autoreload 2"
   ]
  },
  {
   "cell_type": "code",
   "execution_count": 5,
   "metadata": {},
   "outputs": [],
   "source": [
    "def dict_parser (x):\n",
    "    try:\n",
    "        x['value']\n",
    "        return x['value'] , x['confidence']\n",
    "    except: \n",
    "        return None, None\n",
    "\n",
    "def expand_dict(df, col_list):\n",
    "    for col_name in col_list:\n",
    "        df[f'{col_name}_VALUE'], df[f'{col_name}_CONFIDENCE']  = zip(*df[col_name].apply(dict_parser))\n",
    "    return df\n",
    "\n",
    "def get_city_state (x):\n",
    "    try:\n",
    "        x = x.replace('\\n', ' ')\n",
    "        zip_ = re.findall(r'\\b\\d+\\b', x)[0]\n",
    "        state_ = x.replace(zip_, '').strip()\n",
    "        return state_, zip_\n",
    "    except: \n",
    "        return x.replace('\\n', ' '), None\n",
    "    \n",
    "def get_zip (x):\n",
    "    if x is None:\n",
    "        return None, None\n",
    "    try:\n",
    "        x = x.replace('\\n', ' ')\n",
    "        zip_ = re.findall(r'\\b\\d+\\b', x)[0]\n",
    "        state_ = x.replace(zip_, '').strip()\n",
    "        return state_, zip_\n",
    "    except: \n",
    "        return x.replace('\\n', ' '), None\n",
    "\n",
    "def duplicate_remover(x1, x2):\n",
    "    x = [x1, x2]\n",
    "    x.append(None)\n",
    "    xx = list(set(x))\n",
    "    xx.remove(None)\n",
    "    if len(xx) == 1 :\n",
    "        return xx[0]\n",
    "    if len(xx) == 2:\n",
    "        return xx[1]\n",
    "    else:\n",
    "        return None"
   ]
  },
  {
   "cell_type": "code",
   "execution_count": 13,
   "metadata": {},
   "outputs": [],
   "source": [
    "with open('../dataset/raw/nist/full_azure_form.pkl', 'rb') as fp:\n",
    "    result_dict = pickle.load(fp)"
   ]
  },
  {
   "cell_type": "code",
   "execution_count": 14,
   "metadata": {},
   "outputs": [],
   "source": [
    "result_list =[]\n",
    "for i,j in result_dict.items():\n",
    "    \n",
    "    __  = {'image_name': i,}\n",
    "    j_ = { k.replace(\"'\", '').replace(\".\", '').\\\n",
    "          replace(\"E ZIP\", 'ZIP').replace(\"·\", '').\\\n",
    "          replace(\"-\", '').replace(\"_\", '').\\\n",
    "          replace(\"®\", '') : v for k, v in j['result_summary'].items() }\n",
    "    __.update(j_)\n",
    "    result_list.append(__)"
   ]
  },
  {
   "cell_type": "code",
   "execution_count": 15,
   "metadata": {},
   "outputs": [
    {
     "name": "stdout",
     "output_type": "stream",
     "text": [
      "(2100, 6)\n",
      "Index(['image_name', 'DATE', 'CITY', 'STATE', 'ZIP', 'STATE\\nZIP'], dtype='object')\n"
     ]
    },
    {
     "data": {
      "text/html": [
       "<div>\n",
       "<style scoped>\n",
       "    .dataframe tbody tr th:only-of-type {\n",
       "        vertical-align: middle;\n",
       "    }\n",
       "\n",
       "    .dataframe tbody tr th {\n",
       "        vertical-align: top;\n",
       "    }\n",
       "\n",
       "    .dataframe thead th {\n",
       "        text-align: right;\n",
       "    }\n",
       "</style>\n",
       "<table border=\"1\" class=\"dataframe\">\n",
       "  <thead>\n",
       "    <tr style=\"text-align: right;\">\n",
       "      <th></th>\n",
       "      <th>image_name</th>\n",
       "      <th>DATE</th>\n",
       "      <th>CITY</th>\n",
       "      <th>STATE</th>\n",
       "      <th>ZIP</th>\n",
       "      <th>STATE\\nZIP</th>\n",
       "    </tr>\n",
       "  </thead>\n",
       "  <tbody>\n",
       "    <tr>\n",
       "      <th>0</th>\n",
       "      <td>f0194_30.png</td>\n",
       "      <td>{'value': '08/08/89', 'confidence': 0.991}</td>\n",
       "      <td>{'value': 'HUNTINGTON BON,', 'confidence': 0.287}</td>\n",
       "      <td>{'value': 'CA\n",
       "92648', 'confidence': 0.172}</td>\n",
       "      <td>NaN</td>\n",
       "      <td>NaN</td>\n",
       "    </tr>\n",
       "    <tr>\n",
       "      <th>1</th>\n",
       "      <td>f1421_27.png</td>\n",
       "      <td>{'value': '08/28/89', 'confidence': 0.093}</td>\n",
       "      <td>NaN</td>\n",
       "      <td>NaN</td>\n",
       "      <td>NaN</td>\n",
       "      <td>NaN</td>\n",
       "    </tr>\n",
       "  </tbody>\n",
       "</table>\n",
       "</div>"
      ],
      "text/plain": [
       "     image_name                                        DATE  \\\n",
       "0  f0194_30.png  {'value': '08/08/89', 'confidence': 0.991}   \n",
       "1  f1421_27.png  {'value': '08/28/89', 'confidence': 0.093}   \n",
       "\n",
       "                                                CITY  \\\n",
       "0  {'value': 'HUNTINGTON BON,', 'confidence': 0.287}   \n",
       "1                                                NaN   \n",
       "\n",
       "                                        STATE  ZIP STATE\\nZIP  \n",
       "0  {'value': 'CA\n",
       "92648', 'confidence': 0.172}  NaN        NaN  \n",
       "1                                         NaN  NaN        NaN  "
      ]
     },
     "execution_count": 15,
     "metadata": {},
     "output_type": "execute_result"
    }
   ],
   "source": [
    "df = pd.DataFrame(result_list)\n",
    "df.drop(['NAME', 'NAMR', 'NAMA', \n",
    "         'NAMN', 'No',\n",
    "        \"print the following shopsataca i\"], axis = 1, inplace = True)\n",
    "print(df.shape)\n",
    "print(df.columns)\n",
    "df.head(2)"
   ]
  },
  {
   "cell_type": "code",
   "execution_count": 6,
   "metadata": {},
   "outputs": [
    {
     "data": {
      "text/plain": [
       "image_name       0\n",
       "DATE           250\n",
       "CITY           332\n",
       "STATE          371\n",
       "ZIP            974\n",
       "STATE\\nZIP    2099\n",
       "dtype: int64"
      ]
     },
     "execution_count": 6,
     "metadata": {},
     "output_type": "execute_result"
    }
   ],
   "source": [
    "df.isnull().sum()"
   ]
  },
  {
   "cell_type": "code",
   "execution_count": 7,
   "metadata": {},
   "outputs": [
    {
     "name": "stdout",
     "output_type": "stream",
     "text": [
      "(2100, 14)\n"
     ]
    },
    {
     "data": {
      "text/html": [
       "<div>\n",
       "<style scoped>\n",
       "    .dataframe tbody tr th:only-of-type {\n",
       "        vertical-align: middle;\n",
       "    }\n",
       "\n",
       "    .dataframe tbody tr th {\n",
       "        vertical-align: top;\n",
       "    }\n",
       "\n",
       "    .dataframe thead th {\n",
       "        text-align: right;\n",
       "    }\n",
       "</style>\n",
       "<table border=\"1\" class=\"dataframe\">\n",
       "  <thead>\n",
       "    <tr style=\"text-align: right;\">\n",
       "      <th></th>\n",
       "      <th>image_name</th>\n",
       "      <th>DATE</th>\n",
       "      <th>CITY</th>\n",
       "      <th>STATE</th>\n",
       "      <th>ZIP</th>\n",
       "      <th>STATE\\nZIP</th>\n",
       "      <th>DATE_VALUE</th>\n",
       "      <th>DATE_CONFIDENCE</th>\n",
       "      <th>CITY_VALUE</th>\n",
       "      <th>CITY_CONFIDENCE</th>\n",
       "      <th>STATE_VALUE</th>\n",
       "      <th>STATE_CONFIDENCE</th>\n",
       "      <th>ZIP_VALUE</th>\n",
       "      <th>ZIP_CONFIDENCE</th>\n",
       "    </tr>\n",
       "  </thead>\n",
       "  <tbody>\n",
       "    <tr>\n",
       "      <th>0</th>\n",
       "      <td>f0194_30.png</td>\n",
       "      <td>{'value': '08/08/89', 'confidence': 0.991}</td>\n",
       "      <td>{'value': 'HUNTINGTON BON,', 'confidence': 0.287}</td>\n",
       "      <td>{'value': 'CA\n",
       "92648', 'confidence': 0.172}</td>\n",
       "      <td>NaN</td>\n",
       "      <td>NaN</td>\n",
       "      <td>08/08/89</td>\n",
       "      <td>0.991</td>\n",
       "      <td>HUNTINGTON BON,</td>\n",
       "      <td>0.287</td>\n",
       "      <td>CA\\n92648</td>\n",
       "      <td>0.172</td>\n",
       "      <td>None</td>\n",
       "      <td>NaN</td>\n",
       "    </tr>\n",
       "    <tr>\n",
       "      <th>1</th>\n",
       "      <td>f1421_27.png</td>\n",
       "      <td>{'value': '08/28/89', 'confidence': 0.093}</td>\n",
       "      <td>NaN</td>\n",
       "      <td>NaN</td>\n",
       "      <td>NaN</td>\n",
       "      <td>NaN</td>\n",
       "      <td>08/28/89</td>\n",
       "      <td>0.093</td>\n",
       "      <td>None</td>\n",
       "      <td>NaN</td>\n",
       "      <td>None</td>\n",
       "      <td>NaN</td>\n",
       "      <td>None</td>\n",
       "      <td>NaN</td>\n",
       "    </tr>\n",
       "  </tbody>\n",
       "</table>\n",
       "</div>"
      ],
      "text/plain": [
       "     image_name                                        DATE  \\\n",
       "0  f0194_30.png  {'value': '08/08/89', 'confidence': 0.991}   \n",
       "1  f1421_27.png  {'value': '08/28/89', 'confidence': 0.093}   \n",
       "\n",
       "                                                CITY  \\\n",
       "0  {'value': 'HUNTINGTON BON,', 'confidence': 0.287}   \n",
       "1                                                NaN   \n",
       "\n",
       "                                        STATE  ZIP STATE\\nZIP DATE_VALUE  \\\n",
       "0  {'value': 'CA\n",
       "92648', 'confidence': 0.172}  NaN        NaN   08/08/89   \n",
       "1                                         NaN  NaN        NaN   08/28/89   \n",
       "\n",
       "   DATE_CONFIDENCE       CITY_VALUE  CITY_CONFIDENCE STATE_VALUE  \\\n",
       "0            0.991  HUNTINGTON BON,            0.287   CA\\n92648   \n",
       "1            0.093             None              NaN        None   \n",
       "\n",
       "   STATE_CONFIDENCE ZIP_VALUE  ZIP_CONFIDENCE  \n",
       "0             0.172      None             NaN  \n",
       "1               NaN      None             NaN  "
      ]
     },
     "execution_count": 7,
     "metadata": {},
     "output_type": "execute_result"
    }
   ],
   "source": [
    "df = expand_dict(df, ['DATE', 'CITY', 'STATE','ZIP'])\n",
    "print(df.shape)\n",
    "df.head(2)"
   ]
  },
  {
   "cell_type": "code",
   "execution_count": 8,
   "metadata": {},
   "outputs": [
    {
     "data": {
      "text/plain": [
       "image_name             0\n",
       "DATE                 250\n",
       "CITY                 332\n",
       "STATE                371\n",
       "ZIP                  974\n",
       "STATE\\nZIP          2099\n",
       "DATE_VALUE           250\n",
       "DATE_CONFIDENCE      250\n",
       "CITY_VALUE           332\n",
       "CITY_CONFIDENCE      332\n",
       "STATE_VALUE          371\n",
       "STATE_CONFIDENCE     371\n",
       "ZIP_VALUE            974\n",
       "ZIP_CONFIDENCE       974\n",
       "dtype: int64"
      ]
     },
     "execution_count": 8,
     "metadata": {},
     "output_type": "execute_result"
    }
   ],
   "source": [
    "df.isnull().sum()"
   ]
  },
  {
   "cell_type": "code",
   "execution_count": 9,
   "metadata": {},
   "outputs": [
    {
     "name": "stdout",
     "output_type": "stream",
     "text": [
      "(2100, 16)\n"
     ]
    },
    {
     "data": {
      "text/html": [
       "<div>\n",
       "<style scoped>\n",
       "    .dataframe tbody tr th:only-of-type {\n",
       "        vertical-align: middle;\n",
       "    }\n",
       "\n",
       "    .dataframe tbody tr th {\n",
       "        vertical-align: top;\n",
       "    }\n",
       "\n",
       "    .dataframe thead th {\n",
       "        text-align: right;\n",
       "    }\n",
       "</style>\n",
       "<table border=\"1\" class=\"dataframe\">\n",
       "  <thead>\n",
       "    <tr style=\"text-align: right;\">\n",
       "      <th></th>\n",
       "      <th>image_name</th>\n",
       "      <th>DATE</th>\n",
       "      <th>CITY</th>\n",
       "      <th>STATE</th>\n",
       "      <th>ZIP</th>\n",
       "      <th>STATE\\nZIP</th>\n",
       "      <th>DATE_VALUE</th>\n",
       "      <th>DATE_CONFIDENCE</th>\n",
       "      <th>CITY_VALUE</th>\n",
       "      <th>CITY_CONFIDENCE</th>\n",
       "      <th>STATE_VALUE</th>\n",
       "      <th>STATE_CONFIDENCE</th>\n",
       "      <th>ZIP_VALUE</th>\n",
       "      <th>ZIP_CONFIDENCE</th>\n",
       "      <th>CLEAN_STATE_VALUE</th>\n",
       "      <th>CLEAN_ZIP_VALUE</th>\n",
       "    </tr>\n",
       "  </thead>\n",
       "  <tbody>\n",
       "    <tr>\n",
       "      <th>0</th>\n",
       "      <td>f0194_30.png</td>\n",
       "      <td>{'value': '08/08/89', 'confidence': 0.991}</td>\n",
       "      <td>{'value': 'HUNTINGTON BON,', 'confidence': 0.287}</td>\n",
       "      <td>{'value': 'CA\n",
       "92648', 'confidence': 0.172}</td>\n",
       "      <td>NaN</td>\n",
       "      <td>NaN</td>\n",
       "      <td>08/08/89</td>\n",
       "      <td>0.991</td>\n",
       "      <td>HUNTINGTON BON,</td>\n",
       "      <td>0.287</td>\n",
       "      <td>CA\\n92648</td>\n",
       "      <td>0.172</td>\n",
       "      <td>None</td>\n",
       "      <td>NaN</td>\n",
       "      <td>CA</td>\n",
       "      <td>92648</td>\n",
       "    </tr>\n",
       "    <tr>\n",
       "      <th>1</th>\n",
       "      <td>f1421_27.png</td>\n",
       "      <td>{'value': '08/28/89', 'confidence': 0.093}</td>\n",
       "      <td>NaN</td>\n",
       "      <td>NaN</td>\n",
       "      <td>NaN</td>\n",
       "      <td>NaN</td>\n",
       "      <td>08/28/89</td>\n",
       "      <td>0.093</td>\n",
       "      <td>None</td>\n",
       "      <td>NaN</td>\n",
       "      <td>None</td>\n",
       "      <td>NaN</td>\n",
       "      <td>None</td>\n",
       "      <td>NaN</td>\n",
       "      <td>None</td>\n",
       "      <td>None</td>\n",
       "    </tr>\n",
       "  </tbody>\n",
       "</table>\n",
       "</div>"
      ],
      "text/plain": [
       "     image_name                                        DATE  \\\n",
       "0  f0194_30.png  {'value': '08/08/89', 'confidence': 0.991}   \n",
       "1  f1421_27.png  {'value': '08/28/89', 'confidence': 0.093}   \n",
       "\n",
       "                                                CITY  \\\n",
       "0  {'value': 'HUNTINGTON BON,', 'confidence': 0.287}   \n",
       "1                                                NaN   \n",
       "\n",
       "                                        STATE  ZIP STATE\\nZIP DATE_VALUE  \\\n",
       "0  {'value': 'CA\n",
       "92648', 'confidence': 0.172}  NaN        NaN   08/08/89   \n",
       "1                                         NaN  NaN        NaN   08/28/89   \n",
       "\n",
       "   DATE_CONFIDENCE       CITY_VALUE  CITY_CONFIDENCE STATE_VALUE  \\\n",
       "0            0.991  HUNTINGTON BON,            0.287   CA\\n92648   \n",
       "1            0.093             None              NaN        None   \n",
       "\n",
       "   STATE_CONFIDENCE ZIP_VALUE  ZIP_CONFIDENCE CLEAN_STATE_VALUE  \\\n",
       "0             0.172      None             NaN                CA   \n",
       "1               NaN      None             NaN              None   \n",
       "\n",
       "  CLEAN_ZIP_VALUE  \n",
       "0           92648  \n",
       "1            None  "
      ]
     },
     "execution_count": 9,
     "metadata": {},
     "output_type": "execute_result"
    }
   ],
   "source": [
    "df['CLEAN_STATE_VALUE'], df['CLEAN_ZIP_VALUE'] = zip(*(df.STATE_VALUE.apply(get_zip)))\n",
    "print(df.shape)\n",
    "df.head(2)"
   ]
  },
  {
   "cell_type": "code",
   "execution_count": 10,
   "metadata": {},
   "outputs": [
    {
     "name": "stdout",
     "output_type": "stream",
     "text": [
      "(2100, 18)\n"
     ]
    },
    {
     "data": {
      "text/html": [
       "<div>\n",
       "<style scoped>\n",
       "    .dataframe tbody tr th:only-of-type {\n",
       "        vertical-align: middle;\n",
       "    }\n",
       "\n",
       "    .dataframe tbody tr th {\n",
       "        vertical-align: top;\n",
       "    }\n",
       "\n",
       "    .dataframe thead th {\n",
       "        text-align: right;\n",
       "    }\n",
       "</style>\n",
       "<table border=\"1\" class=\"dataframe\">\n",
       "  <thead>\n",
       "    <tr style=\"text-align: right;\">\n",
       "      <th></th>\n",
       "      <th>image_name</th>\n",
       "      <th>DATE</th>\n",
       "      <th>CITY</th>\n",
       "      <th>STATE</th>\n",
       "      <th>ZIP</th>\n",
       "      <th>STATE\\nZIP</th>\n",
       "      <th>DATE_VALUE</th>\n",
       "      <th>DATE_CONFIDENCE</th>\n",
       "      <th>CITY_VALUE</th>\n",
       "      <th>CITY_CONFIDENCE</th>\n",
       "      <th>STATE_VALUE</th>\n",
       "      <th>STATE_CONFIDENCE</th>\n",
       "      <th>ZIP_VALUE</th>\n",
       "      <th>ZIP_CONFIDENCE</th>\n",
       "      <th>CLEAN_STATE_VALUE</th>\n",
       "      <th>CLEAN_ZIP_VALUE</th>\n",
       "      <th>ZIP_VALUE_FINAL</th>\n",
       "      <th>STATE_VALUE_FINAL</th>\n",
       "    </tr>\n",
       "  </thead>\n",
       "  <tbody>\n",
       "    <tr>\n",
       "      <th>0</th>\n",
       "      <td>f0194_30.png</td>\n",
       "      <td>{'value': '08/08/89', 'confidence': 0.991}</td>\n",
       "      <td>{'value': 'HUNTINGTON BON,', 'confidence': 0.287}</td>\n",
       "      <td>{'value': 'CA\n",
       "92648', 'confidence': 0.172}</td>\n",
       "      <td>NaN</td>\n",
       "      <td>NaN</td>\n",
       "      <td>08/08/89</td>\n",
       "      <td>0.991</td>\n",
       "      <td>HUNTINGTON BON,</td>\n",
       "      <td>0.287</td>\n",
       "      <td>CA\\n92648</td>\n",
       "      <td>0.172</td>\n",
       "      <td>None</td>\n",
       "      <td>NaN</td>\n",
       "      <td>CA</td>\n",
       "      <td>92648</td>\n",
       "      <td>92648</td>\n",
       "      <td>CA</td>\n",
       "    </tr>\n",
       "    <tr>\n",
       "      <th>1</th>\n",
       "      <td>f1421_27.png</td>\n",
       "      <td>{'value': '08/28/89', 'confidence': 0.093}</td>\n",
       "      <td>NaN</td>\n",
       "      <td>NaN</td>\n",
       "      <td>NaN</td>\n",
       "      <td>NaN</td>\n",
       "      <td>08/28/89</td>\n",
       "      <td>0.093</td>\n",
       "      <td>None</td>\n",
       "      <td>NaN</td>\n",
       "      <td>None</td>\n",
       "      <td>NaN</td>\n",
       "      <td>None</td>\n",
       "      <td>NaN</td>\n",
       "      <td>None</td>\n",
       "      <td>None</td>\n",
       "      <td>None</td>\n",
       "      <td>None</td>\n",
       "    </tr>\n",
       "  </tbody>\n",
       "</table>\n",
       "</div>"
      ],
      "text/plain": [
       "     image_name                                        DATE  \\\n",
       "0  f0194_30.png  {'value': '08/08/89', 'confidence': 0.991}   \n",
       "1  f1421_27.png  {'value': '08/28/89', 'confidence': 0.093}   \n",
       "\n",
       "                                                CITY  \\\n",
       "0  {'value': 'HUNTINGTON BON,', 'confidence': 0.287}   \n",
       "1                                                NaN   \n",
       "\n",
       "                                        STATE  ZIP STATE\\nZIP DATE_VALUE  \\\n",
       "0  {'value': 'CA\n",
       "92648', 'confidence': 0.172}  NaN        NaN   08/08/89   \n",
       "1                                         NaN  NaN        NaN   08/28/89   \n",
       "\n",
       "   DATE_CONFIDENCE       CITY_VALUE  CITY_CONFIDENCE STATE_VALUE  \\\n",
       "0            0.991  HUNTINGTON BON,            0.287   CA\\n92648   \n",
       "1            0.093             None              NaN        None   \n",
       "\n",
       "   STATE_CONFIDENCE ZIP_VALUE  ZIP_CONFIDENCE CLEAN_STATE_VALUE  \\\n",
       "0             0.172      None             NaN                CA   \n",
       "1               NaN      None             NaN              None   \n",
       "\n",
       "  CLEAN_ZIP_VALUE ZIP_VALUE_FINAL STATE_VALUE_FINAL  \n",
       "0           92648           92648                CA  \n",
       "1            None            None              None  "
      ]
     },
     "execution_count": 10,
     "metadata": {},
     "output_type": "execute_result"
    }
   ],
   "source": [
    "df[\"ZIP_VALUE_FINAL\"] = df.apply(lambda x: duplicate_remover(x[\"ZIP_VALUE\"], x[\"CLEAN_ZIP_VALUE\"]), axis=1)\n",
    "df[\"STATE_VALUE_FINAL\"] = df.apply(lambda x: duplicate_remover(x[\"STATE_VALUE\"], x[\"CLEAN_STATE_VALUE\"]), axis=1)\n",
    "print(df.shape)\n",
    "df.head(2)"
   ]
  },
  {
   "cell_type": "code",
   "execution_count": 11,
   "metadata": {},
   "outputs": [
    {
     "data": {
      "text/plain": [
       "image_name              0\n",
       "DATE                  250\n",
       "CITY                  332\n",
       "STATE                 371\n",
       "ZIP                   974\n",
       "STATE\\nZIP           2099\n",
       "DATE_VALUE            250\n",
       "DATE_CONFIDENCE       250\n",
       "CITY_VALUE            332\n",
       "CITY_CONFIDENCE       332\n",
       "STATE_VALUE           371\n",
       "STATE_CONFIDENCE      371\n",
       "ZIP_VALUE             974\n",
       "ZIP_CONFIDENCE        974\n",
       "CLEAN_STATE_VALUE     371\n",
       "CLEAN_ZIP_VALUE      1419\n",
       "ZIP_VALUE_FINAL       304\n",
       "STATE_VALUE_FINAL     371\n",
       "dtype: int64"
      ]
     },
     "execution_count": 11,
     "metadata": {},
     "output_type": "execute_result"
    }
   ],
   "source": [
    "df.isnull().sum()"
   ]
  },
  {
   "cell_type": "code",
   "execution_count": 12,
   "metadata": {},
   "outputs": [
    {
     "name": "stdout",
     "output_type": "stream",
     "text": [
      "(2100, 9)\n",
      "(2100, 9)\n",
      "image_name             0\n",
      "DATE_VALUE           250\n",
      "DATE_CONFIDENCE      250\n",
      "CITY_VALUE           332\n",
      "CITY_CONFIDENCE      332\n",
      "CLEAN_STATE_VALUE    371\n",
      "STATE_CONFIDENCE     371\n",
      "ZIP_VALUE_FINAL      304\n",
      "ZIP_CONFIDENCE       974\n",
      "dtype: int64\n"
     ]
    },
    {
     "data": {
      "text/html": [
       "<div>\n",
       "<style scoped>\n",
       "    .dataframe tbody tr th:only-of-type {\n",
       "        vertical-align: middle;\n",
       "    }\n",
       "\n",
       "    .dataframe tbody tr th {\n",
       "        vertical-align: top;\n",
       "    }\n",
       "\n",
       "    .dataframe thead th {\n",
       "        text-align: right;\n",
       "    }\n",
       "</style>\n",
       "<table border=\"1\" class=\"dataframe\">\n",
       "  <thead>\n",
       "    <tr style=\"text-align: right;\">\n",
       "      <th></th>\n",
       "      <th>image_name</th>\n",
       "      <th>DATE_VALUE</th>\n",
       "      <th>DATE_CONFIDENCE</th>\n",
       "      <th>CITY_VALUE</th>\n",
       "      <th>CITY_CONFIDENCE</th>\n",
       "      <th>CLEAN_STATE_VALUE</th>\n",
       "      <th>STATE_CONFIDENCE</th>\n",
       "      <th>ZIP_VALUE_FINAL</th>\n",
       "      <th>ZIP_CONFIDENCE</th>\n",
       "    </tr>\n",
       "  </thead>\n",
       "  <tbody>\n",
       "    <tr>\n",
       "      <th>0</th>\n",
       "      <td>f0194_30.png</td>\n",
       "      <td>08/08/89</td>\n",
       "      <td>0.991</td>\n",
       "      <td>HUNTINGTON BON,</td>\n",
       "      <td>0.287</td>\n",
       "      <td>CA</td>\n",
       "      <td>0.172</td>\n",
       "      <td>92648</td>\n",
       "      <td>NaN</td>\n",
       "    </tr>\n",
       "    <tr>\n",
       "      <th>1</th>\n",
       "      <td>f1421_27.png</td>\n",
       "      <td>08/28/89</td>\n",
       "      <td>0.093</td>\n",
       "      <td>None</td>\n",
       "      <td>NaN</td>\n",
       "      <td>None</td>\n",
       "      <td>NaN</td>\n",
       "      <td>None</td>\n",
       "      <td>NaN</td>\n",
       "    </tr>\n",
       "  </tbody>\n",
       "</table>\n",
       "</div>"
      ],
      "text/plain": [
       "     image_name DATE_VALUE  DATE_CONFIDENCE       CITY_VALUE  CITY_CONFIDENCE  \\\n",
       "0  f0194_30.png   08/08/89            0.991  HUNTINGTON BON,            0.287   \n",
       "1  f1421_27.png   08/28/89            0.093             None              NaN   \n",
       "\n",
       "  CLEAN_STATE_VALUE  STATE_CONFIDENCE ZIP_VALUE_FINAL  ZIP_CONFIDENCE  \n",
       "0                CA             0.172           92648             NaN  \n",
       "1              None               NaN            None             NaN  "
      ]
     },
     "execution_count": 12,
     "metadata": {},
     "output_type": "execute_result"
    }
   ],
   "source": [
    "df_out = df[['image_name', \n",
    "    'DATE_VALUE', 'DATE_CONFIDENCE',\n",
    "    'CITY_VALUE', 'CITY_CONFIDENCE', \n",
    "    'CLEAN_STATE_VALUE', 'STATE_CONFIDENCE', \n",
    "    'ZIP_VALUE_FINAL', 'ZIP_CONFIDENCE']].copy()\n",
    "print(df_out.shape)\n",
    "# df_out = df_out[df_out['ZIP_VALUE_FINAL'].notna()]\n",
    "print(df_out.shape)\n",
    "print(df_out.isnull().sum())\n",
    "df_out.head(2)"
   ]
  },
  {
   "cell_type": "code",
   "execution_count": 13,
   "metadata": {},
   "outputs": [
    {
     "name": "stdout",
     "output_type": "stream",
     "text": [
      "(2100, 9)\n"
     ]
    },
    {
     "data": {
      "text/html": [
       "<div>\n",
       "<style scoped>\n",
       "    .dataframe tbody tr th:only-of-type {\n",
       "        vertical-align: middle;\n",
       "    }\n",
       "\n",
       "    .dataframe tbody tr th {\n",
       "        vertical-align: top;\n",
       "    }\n",
       "\n",
       "    .dataframe thead th {\n",
       "        text-align: right;\n",
       "    }\n",
       "</style>\n",
       "<table border=\"1\" class=\"dataframe\">\n",
       "  <thead>\n",
       "    <tr style=\"text-align: right;\">\n",
       "      <th></th>\n",
       "      <th>image_name</th>\n",
       "      <th>DATE</th>\n",
       "      <th>DATE_CONFIDENCE</th>\n",
       "      <th>CITY</th>\n",
       "      <th>CITY_CONFIDENCE</th>\n",
       "      <th>STATE</th>\n",
       "      <th>STATE_CONFIDENCE</th>\n",
       "      <th>ZIP</th>\n",
       "      <th>ZIP_CONFIDENCE</th>\n",
       "    </tr>\n",
       "  </thead>\n",
       "  <tbody>\n",
       "    <tr>\n",
       "      <th>0</th>\n",
       "      <td>f0194_30.png</td>\n",
       "      <td>08/08/89</td>\n",
       "      <td>0.991</td>\n",
       "      <td>HUNTINGTON BON,</td>\n",
       "      <td>0.287</td>\n",
       "      <td>CA</td>\n",
       "      <td>0.172</td>\n",
       "      <td>92648</td>\n",
       "      <td>NaN</td>\n",
       "    </tr>\n",
       "    <tr>\n",
       "      <th>1</th>\n",
       "      <td>f1421_27.png</td>\n",
       "      <td>08/28/89</td>\n",
       "      <td>0.093</td>\n",
       "      <td>None</td>\n",
       "      <td>NaN</td>\n",
       "      <td>None</td>\n",
       "      <td>NaN</td>\n",
       "      <td>None</td>\n",
       "      <td>NaN</td>\n",
       "    </tr>\n",
       "  </tbody>\n",
       "</table>\n",
       "</div>"
      ],
      "text/plain": [
       "     image_name      DATE  DATE_CONFIDENCE             CITY  CITY_CONFIDENCE  \\\n",
       "0  f0194_30.png  08/08/89            0.991  HUNTINGTON BON,            0.287   \n",
       "1  f1421_27.png  08/28/89            0.093             None              NaN   \n",
       "\n",
       "  STATE  STATE_CONFIDENCE    ZIP  ZIP_CONFIDENCE  \n",
       "0    CA             0.172  92648             NaN  \n",
       "1  None               NaN   None             NaN  "
      ]
     },
     "execution_count": 13,
     "metadata": {},
     "output_type": "execute_result"
    }
   ],
   "source": [
    "df_out.rename(columns={\"DATE_VALUE\": \"DATE\", \n",
    "                       \"CITY_VALUE\": \"CITY\", \n",
    "                       \"CLEAN_STATE_VALUE\": \"STATE\",\n",
    "                      \"ZIP_VALUE_FINAL\":\"ZIP\"}, errors=\"raise\", inplace = True)\n",
    "print(df_out.shape)\n",
    "df_out.head(2)"
   ]
  },
  {
   "cell_type": "code",
   "execution_count": 14,
   "metadata": {},
   "outputs": [],
   "source": [
    "df_out.to_csv('../dataset/raw/nist/azure_cleaned.csv', index = False)"
   ]
  }
 ],
 "metadata": {
  "kernelspec": {
   "display_name": "ocr37",
   "language": "python",
   "name": "ocr37"
  },
  "language_info": {
   "codemirror_mode": {
    "name": "ipython",
    "version": 3
   },
   "file_extension": ".py",
   "mimetype": "text/x-python",
   "name": "python",
   "nbconvert_exporter": "python",
   "pygments_lexer": "ipython3",
   "version": "3.7.16"
  },
  "toc": {
   "base_numbering": 1,
   "nav_menu": {},
   "number_sections": true,
   "sideBar": true,
   "skip_h1_title": false,
   "title_cell": "Table of Contents",
   "title_sidebar": "Contents",
   "toc_cell": false,
   "toc_position": {},
   "toc_section_display": true,
   "toc_window_display": false
  }
 },
 "nbformat": 4,
 "nbformat_minor": 4
}
