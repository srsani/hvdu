{
 "cells": [
  {
   "cell_type": "code",
   "execution_count": null,
   "metadata": {},
   "outputs": [],
   "source": [
    "from utilities import * \n",
    "from IPython.display import display, HTML\n",
    "display(HTML(\"<style>.container { width:80% !important; }</style>\"))\n",
    "%load_ext autoreload\n",
    "%autoreload 2\n",
    "\n",
    "key = os.getenv('AZURE_KEY')\n",
    "endpoint = os.environ.get('AZURE_ENDPOINT')"
   ]
  },
  {
   "cell_type": "markdown",
   "metadata": {},
   "source": [
    "## Extract information using Azure:"
   ]
  },
  {
   "cell_type": "code",
   "execution_count": null,
   "metadata": {},
   "outputs": [],
   "source": [
    "document_analysis_client = DocumentAnalysisClient(endpoint=endpoint, \n",
    "                                                  credential=AzureKeyCredential(key))"
   ]
  },
  {
   "cell_type": "code",
   "execution_count": null,
   "metadata": {},
   "outputs": [],
   "source": [
    "result_dict = {}\n",
    "captured_errors = []\n",
    "error_list = []\n",
    "\n",
    "for file_path in tqdm(glob.glob('../dataset/raw/nist/nist_data/*.png')):\n",
    "    \n",
    "    image_name = file_path[file_path.rfind('/')+1:]\n",
    "    \n",
    "    try:\n",
    "        with open(file_path, \"rb\") as f:\n",
    "            poller = document_analysis_client.begin_analyze_document(\"prebuilt-document\", \n",
    "                                                                     document=f)\n",
    "        result = poller.result()\n",
    "\n",
    "        dict__ = {}\n",
    "        for i in result.key_value_pairs:\n",
    "            if i.to_dict()['value'] != None:\n",
    "                dict__[i.to_dict()['key']['content']] = {\n",
    "                    'value': i.to_dict()['value']['content'],\n",
    "                    'confidence':i.to_dict()['confidence'] }\n",
    "\n",
    "\n",
    "        result_dict[image_name] = {'result_summary': dict__, \n",
    "                                   'result_full': result}\n",
    "    except Exception as e:\n",
    "        time.sleep(30)\n",
    "        error_list.append(e)\n",
    "        captured_errors.append(file_path)\n",
    "        "
   ]
  },
  {
   "cell_type": "markdown",
   "metadata": {},
   "source": [
    "## save resutls"
   ]
  },
  {
   "cell_type": "code",
   "execution_count": null,
   "metadata": {},
   "outputs": [],
   "source": [
    "with open('../dataset/raw/nist/full_azure_form.pkl', 'wb') as fp:\n",
    "    pickle.dump(result_dict, fp)"
   ]
  }
 ],
 "metadata": {
  "kernelspec": {
   "display_name": "ocr37",
   "language": "python",
   "name": "ocr37"
  },
  "language_info": {
   "codemirror_mode": {
    "name": "ipython",
    "version": 3
   },
   "file_extension": ".py",
   "mimetype": "text/x-python",
   "name": "python",
   "nbconvert_exporter": "python",
   "pygments_lexer": "ipython3",
   "version": "3.7.16"
  },
  "toc": {
   "base_numbering": 1,
   "nav_menu": {},
   "number_sections": true,
   "sideBar": true,
   "skip_h1_title": false,
   "title_cell": "Table of Contents",
   "title_sidebar": "Contents",
   "toc_cell": false,
   "toc_position": {},
   "toc_section_display": true,
   "toc_window_display": false
  }
 },
 "nbformat": 4,
 "nbformat_minor": 4
}
