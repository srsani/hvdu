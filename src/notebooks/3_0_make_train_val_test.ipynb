{
 "cells": [
  {
   "cell_type": "code",
   "execution_count": 1,
   "metadata": {},
   "outputs": [
    {
     "data": {
      "text/html": [
       "<style>.container { width:80% !important; }</style>"
      ],
      "text/plain": [
       "<IPython.core.display.HTML object>"
      ]
     },
     "metadata": {},
     "output_type": "display_data"
    }
   ],
   "source": [
    "from utilities import * \n",
    "from IPython.display import display, HTML\n",
    "display(HTML(\"<style>.container { width:80% !important; }</style>\"))\n",
    "%load_ext autoreload\n",
    "%autoreload 2\n",
    "\n",
    "\n",
    "keys_path = '../dataset/raw/nist/keys'\n",
    "data_png_path = '../dataset/raw/nist/nist_data'\n",
    "train_val_test_path = '../dataset/training'\n",
    "data_set_name = 'nist_form'"
   ]
  },
  {
   "cell_type": "code",
   "execution_count": 2,
   "metadata": {},
   "outputs": [],
   "source": [
    "def make_data(df,\n",
    "              keys_path,\n",
    "              data_png_path,\n",
    "              train_val_test_path,\n",
    "              data_set_name,\n",
    "              stage = 'train'):\n",
    "\n",
    "    dict_list = []\n",
    "    for json_path in df.file_path.to_list():\n",
    "        \n",
    "        image_name = f\"{json_path[json_path.rfind('/')+1: json_path.rfind('.')]}.png\"\n",
    "        \n",
    "        with open(json_path) as f:\n",
    "            dict_ = json.load(f)\n",
    "        \n",
    "        # change 'None' to an empty str\n",
    "#         for key, value in dict_.items():\n",
    "#             if value == 'None':\n",
    "#                 dict_[key] = ''\n",
    "        \n",
    "            \n",
    "        dict_list.append(\n",
    "        {\"file_name\": image_name,\n",
    "         \"ground_truth\": json.dumps({\"gt_parse\": dict_})\n",
    "        })\n",
    "\n",
    "    p = pathlib.Path(f\"{train_val_test_path}/{data_set_name}/{stage}\")\n",
    "    p.mkdir(parents=True, exist_ok=True)\n",
    "\n",
    "    with open(f\"{p}/metadata.jsonl\", 'w') as f:\n",
    "            for line in dict_list:\n",
    "                f.write(json.dumps(line) + \"\\n\")\n",
    "                shutil.copyfile(f\"{data_png_path}/{line['file_name']}\", f\"{p}/{line['file_name']}\" )\n"
   ]
  },
  {
   "cell_type": "markdown",
   "metadata": {},
   "source": [
    "# Clean Keys"
   ]
  },
  {
   "cell_type": "code",
   "execution_count": 3,
   "metadata": {},
   "outputs": [
    {
     "name": "stdout",
     "output_type": "stream",
     "text": [
      "2099\n"
     ]
    }
   ],
   "source": [
    "json_list = glob.glob(f\"{keys_path}/*.json\")\n",
    "print(len(json_list))"
   ]
  },
  {
   "cell_type": "code",
   "execution_count": 4,
   "metadata": {},
   "outputs": [
    {
     "name": "stdout",
     "output_type": "stream",
     "text": [
      "(2099, 1)\n"
     ]
    },
    {
     "data": {
      "text/html": [
       "<div>\n",
       "<style scoped>\n",
       "    .dataframe tbody tr th:only-of-type {\n",
       "        vertical-align: middle;\n",
       "    }\n",
       "\n",
       "    .dataframe tbody tr th {\n",
       "        vertical-align: top;\n",
       "    }\n",
       "\n",
       "    .dataframe thead th {\n",
       "        text-align: right;\n",
       "    }\n",
       "</style>\n",
       "<table border=\"1\" class=\"dataframe\">\n",
       "  <thead>\n",
       "    <tr style=\"text-align: right;\">\n",
       "      <th></th>\n",
       "      <th>file_path</th>\n",
       "    </tr>\n",
       "  </thead>\n",
       "  <tbody>\n",
       "    <tr>\n",
       "      <th>388</th>\n",
       "      <td>../dataset/raw/nist/keys/f0099_18.json</td>\n",
       "    </tr>\n",
       "    <tr>\n",
       "      <th>819</th>\n",
       "      <td>../dataset/raw/nist/keys/f0325_17.json</td>\n",
       "    </tr>\n",
       "  </tbody>\n",
       "</table>\n",
       "</div>"
      ],
      "text/plain": [
       "                                  file_path\n",
       "388  ../dataset/raw/nist/keys/f0099_18.json\n",
       "819  ../dataset/raw/nist/keys/f0325_17.json"
      ]
     },
     "execution_count": 4,
     "metadata": {},
     "output_type": "execute_result"
    }
   ],
   "source": [
    "df_ = pd.DataFrame(json_list,columns = ['file_path'])\n",
    "df_ = df_.sample(frac=1, random_state=19).copy()\n",
    "print(df_.shape)\n",
    "df_.head(2)"
   ]
  },
  {
   "cell_type": "code",
   "execution_count": 5,
   "metadata": {},
   "outputs": [
    {
     "name": "stdout",
     "output_type": "stream",
     "text": [
      "(1400, 1)\n"
     ]
    },
    {
     "data": {
      "text/html": [
       "<div>\n",
       "<style scoped>\n",
       "    .dataframe tbody tr th:only-of-type {\n",
       "        vertical-align: middle;\n",
       "    }\n",
       "\n",
       "    .dataframe tbody tr th {\n",
       "        vertical-align: top;\n",
       "    }\n",
       "\n",
       "    .dataframe thead th {\n",
       "        text-align: right;\n",
       "    }\n",
       "</style>\n",
       "<table border=\"1\" class=\"dataframe\">\n",
       "  <thead>\n",
       "    <tr style=\"text-align: right;\">\n",
       "      <th></th>\n",
       "      <th>file_path</th>\n",
       "    </tr>\n",
       "  </thead>\n",
       "  <tbody>\n",
       "    <tr>\n",
       "      <th>388</th>\n",
       "      <td>../dataset/raw/nist/keys/f0099_18.json</td>\n",
       "    </tr>\n",
       "    <tr>\n",
       "      <th>819</th>\n",
       "      <td>../dataset/raw/nist/keys/f0325_17.json</td>\n",
       "    </tr>\n",
       "    <tr>\n",
       "      <th>832</th>\n",
       "      <td>../dataset/raw/nist/keys/f1979_36.json</td>\n",
       "    </tr>\n",
       "    <tr>\n",
       "      <th>482</th>\n",
       "      <td>../dataset/raw/nist/keys/f0631_03.json</td>\n",
       "    </tr>\n",
       "    <tr>\n",
       "      <th>1370</th>\n",
       "      <td>../dataset/raw/nist/keys/f1635_40.json</td>\n",
       "    </tr>\n",
       "  </tbody>\n",
       "</table>\n",
       "</div>"
      ],
      "text/plain": [
       "                                   file_path\n",
       "388   ../dataset/raw/nist/keys/f0099_18.json\n",
       "819   ../dataset/raw/nist/keys/f0325_17.json\n",
       "832   ../dataset/raw/nist/keys/f1979_36.json\n",
       "482   ../dataset/raw/nist/keys/f0631_03.json\n",
       "1370  ../dataset/raw/nist/keys/f1635_40.json"
      ]
     },
     "execution_count": 5,
     "metadata": {},
     "output_type": "execute_result"
    }
   ],
   "source": [
    "train = df_[:1400]\n",
    "print(train.shape)\n",
    "train.head()"
   ]
  },
  {
   "cell_type": "code",
   "execution_count": 6,
   "metadata": {},
   "outputs": [
    {
     "name": "stdout",
     "output_type": "stream",
     "text": [
      "(199, 1)\n"
     ]
    },
    {
     "data": {
      "text/html": [
       "<div>\n",
       "<style scoped>\n",
       "    .dataframe tbody tr th:only-of-type {\n",
       "        vertical-align: middle;\n",
       "    }\n",
       "\n",
       "    .dataframe tbody tr th {\n",
       "        vertical-align: top;\n",
       "    }\n",
       "\n",
       "    .dataframe thead th {\n",
       "        text-align: right;\n",
       "    }\n",
       "</style>\n",
       "<table border=\"1\" class=\"dataframe\">\n",
       "  <thead>\n",
       "    <tr style=\"text-align: right;\">\n",
       "      <th></th>\n",
       "      <th>file_path</th>\n",
       "    </tr>\n",
       "  </thead>\n",
       "  <tbody>\n",
       "    <tr>\n",
       "      <th>927</th>\n",
       "      <td>../dataset/raw/nist/keys/f0639_24.json</td>\n",
       "    </tr>\n",
       "    <tr>\n",
       "      <th>1203</th>\n",
       "      <td>../dataset/raw/nist/keys/f0814_03.json</td>\n",
       "    </tr>\n",
       "    <tr>\n",
       "      <th>339</th>\n",
       "      <td>../dataset/raw/nist/keys/f1641_09.json</td>\n",
       "    </tr>\n",
       "    <tr>\n",
       "      <th>1570</th>\n",
       "      <td>../dataset/raw/nist/keys/f0643_23.json</td>\n",
       "    </tr>\n",
       "    <tr>\n",
       "      <th>1245</th>\n",
       "      <td>../dataset/raw/nist/keys/f0067_25_22.json</td>\n",
       "    </tr>\n",
       "  </tbody>\n",
       "</table>\n",
       "</div>"
      ],
      "text/plain": [
       "                                      file_path\n",
       "927      ../dataset/raw/nist/keys/f0639_24.json\n",
       "1203     ../dataset/raw/nist/keys/f0814_03.json\n",
       "339      ../dataset/raw/nist/keys/f1641_09.json\n",
       "1570     ../dataset/raw/nist/keys/f0643_23.json\n",
       "1245  ../dataset/raw/nist/keys/f0067_25_22.json"
      ]
     },
     "execution_count": 6,
     "metadata": {},
     "output_type": "execute_result"
    }
   ],
   "source": [
    "validate = df_[1400:1400 + 199]\n",
    "print(validate.shape)\n",
    "validate.head()"
   ]
  },
  {
   "cell_type": "code",
   "execution_count": 7,
   "metadata": {},
   "outputs": [
    {
     "name": "stdout",
     "output_type": "stream",
     "text": [
      "(500, 1)\n"
     ]
    },
    {
     "data": {
      "text/html": [
       "<div>\n",
       "<style scoped>\n",
       "    .dataframe tbody tr th:only-of-type {\n",
       "        vertical-align: middle;\n",
       "    }\n",
       "\n",
       "    .dataframe tbody tr th {\n",
       "        vertical-align: top;\n",
       "    }\n",
       "\n",
       "    .dataframe thead th {\n",
       "        text-align: right;\n",
       "    }\n",
       "</style>\n",
       "<table border=\"1\" class=\"dataframe\">\n",
       "  <thead>\n",
       "    <tr style=\"text-align: right;\">\n",
       "      <th></th>\n",
       "      <th>file_path</th>\n",
       "    </tr>\n",
       "  </thead>\n",
       "  <tbody>\n",
       "    <tr>\n",
       "      <th>1274</th>\n",
       "      <td>../dataset/raw/nist/keys/f1791_04.json</td>\n",
       "    </tr>\n",
       "    <tr>\n",
       "      <th>868</th>\n",
       "      <td>../dataset/raw/nist/keys/f1698_35.json</td>\n",
       "    </tr>\n",
       "    <tr>\n",
       "      <th>790</th>\n",
       "      <td>../dataset/raw/nist/keys/f1336_30.json</td>\n",
       "    </tr>\n",
       "    <tr>\n",
       "      <th>1507</th>\n",
       "      <td>../dataset/raw/nist/keys/f1827_17.json</td>\n",
       "    </tr>\n",
       "    <tr>\n",
       "      <th>404</th>\n",
       "      <td>../dataset/raw/nist/keys/f1017_30.json</td>\n",
       "    </tr>\n",
       "  </tbody>\n",
       "</table>\n",
       "</div>"
      ],
      "text/plain": [
       "                                   file_path\n",
       "1274  ../dataset/raw/nist/keys/f1791_04.json\n",
       "868   ../dataset/raw/nist/keys/f1698_35.json\n",
       "790   ../dataset/raw/nist/keys/f1336_30.json\n",
       "1507  ../dataset/raw/nist/keys/f1827_17.json\n",
       "404   ../dataset/raw/nist/keys/f1017_30.json"
      ]
     },
     "execution_count": 7,
     "metadata": {},
     "output_type": "execute_result"
    }
   ],
   "source": [
    "test = df_[-500:]\n",
    "print(test.shape)\n",
    "test.head()"
   ]
  },
  {
   "cell_type": "code",
   "execution_count": 8,
   "metadata": {},
   "outputs": [],
   "source": [
    "make_data(train, \n",
    "          keys_path,\n",
    "          data_png_path,\n",
    "          train_val_test_path,\n",
    "          data_set_name,\n",
    "          stage = 'train')\n",
    "\n",
    "make_data(validate, \n",
    "          keys_path,\n",
    "          data_png_path,\n",
    "          train_val_test_path,\n",
    "          data_set_name,\n",
    "          stage = 'validation')\n",
    "\n",
    "make_data(test, \n",
    "          keys_path,\n",
    "          data_png_path,\n",
    "          train_val_test_path,\n",
    "          data_set_name,\n",
    "          stage = 'test')"
   ]
  },
  {
   "cell_type": "code",
   "execution_count": null,
   "metadata": {},
   "outputs": [],
   "source": []
  }
 ],
 "metadata": {
  "kernelspec": {
   "display_name": "ocr37",
   "language": "python",
   "name": "ocr37"
  },
  "language_info": {
   "codemirror_mode": {
    "name": "ipython",
    "version": 3
   },
   "file_extension": ".py",
   "mimetype": "text/x-python",
   "name": "python",
   "nbconvert_exporter": "python",
   "pygments_lexer": "ipython3",
   "version": "3.7.16"
  },
  "toc": {
   "base_numbering": 1,
   "nav_menu": {},
   "number_sections": true,
   "sideBar": true,
   "skip_h1_title": false,
   "title_cell": "Table of Contents",
   "title_sidebar": "Contents",
   "toc_cell": false,
   "toc_position": {},
   "toc_section_display": true,
   "toc_window_display": false
  }
 },
 "nbformat": 4,
 "nbformat_minor": 4
}
