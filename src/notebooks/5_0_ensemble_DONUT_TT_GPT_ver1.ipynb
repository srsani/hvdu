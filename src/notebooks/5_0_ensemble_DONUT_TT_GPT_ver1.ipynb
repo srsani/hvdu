{
 "cells": [
  {
   "cell_type": "code",
   "execution_count": 1,
   "metadata": {},
   "outputs": [
    {
     "data": {
      "text/html": [
       "<style>.container { width:80% !important; }</style>"
      ],
      "text/plain": [
       "<IPython.core.display.HTML object>"
      ]
     },
     "metadata": {},
     "output_type": "display_data"
    }
   ],
   "source": [
    "from utilities import * \n",
    "from IPython.display import display, HTML\n",
    "display(HTML(\"<style>.container { width:80% !important; }</style>\"))\n",
    "%load_ext autoreload\n",
    "%autoreload 2\n",
    "nest_asyncio.apply()\n",
    "\n",
    "df1_path = '../dataset/result/nist_form/20230906073654_14/test_pred.csv'\n",
    "df2_path = '../dataset/raw/nist/aws_cleaned.csv'\n",
    "\n",
    "output_path = '../dataset/raw/nist/donut-tt-gpt_ver1.csv'"
   ]
  },
  {
   "cell_type": "markdown",
   "metadata": {},
   "source": [
    "## Donut result:"
   ]
  },
  {
   "cell_type": "code",
   "execution_count": 2,
   "metadata": {},
   "outputs": [
    {
     "name": "stdout",
     "output_type": "stream",
     "text": [
      "(500, 5)\n"
     ]
    },
    {
     "data": {
      "text/html": [
       "<div>\n",
       "<style scoped>\n",
       "    .dataframe tbody tr th:only-of-type {\n",
       "        vertical-align: middle;\n",
       "    }\n",
       "\n",
       "    .dataframe tbody tr th {\n",
       "        vertical-align: top;\n",
       "    }\n",
       "\n",
       "    .dataframe thead th {\n",
       "        text-align: right;\n",
       "    }\n",
       "</style>\n",
       "<table border=\"1\" class=\"dataframe\">\n",
       "  <thead>\n",
       "    <tr style=\"text-align: right;\">\n",
       "      <th></th>\n",
       "      <th>DATE</th>\n",
       "      <th>CITY</th>\n",
       "      <th>STATE</th>\n",
       "      <th>ZIP</th>\n",
       "      <th>image_name</th>\n",
       "    </tr>\n",
       "  </thead>\n",
       "  <tbody>\n",
       "    <tr>\n",
       "      <th>0</th>\n",
       "      <td>08/02/89</td>\n",
       "      <td>FLINT</td>\n",
       "      <td>Mi</td>\n",
       "      <td>48504</td>\n",
       "      <td>f0000_14.png</td>\n",
       "    </tr>\n",
       "    <tr>\n",
       "      <th>1</th>\n",
       "      <td>8-7-89</td>\n",
       "      <td>Allendale</td>\n",
       "      <td>MI</td>\n",
       "      <td>49401</td>\n",
       "      <td>f0001_41.png</td>\n",
       "    </tr>\n",
       "    <tr>\n",
       "      <th>2</th>\n",
       "      <td>08-03-89</td>\n",
       "      <td>Holland</td>\n",
       "      <td>Mi</td>\n",
       "      <td>49424</td>\n",
       "      <td>f0004_09.png</td>\n",
       "    </tr>\n",
       "    <tr>\n",
       "      <th>3</th>\n",
       "      <td>8/3/89</td>\n",
       "      <td>ST. CLAIR SHORES</td>\n",
       "      <td>MI.</td>\n",
       "      <td>48082</td>\n",
       "      <td>f0006_12.png</td>\n",
       "    </tr>\n",
       "    <tr>\n",
       "      <th>4</th>\n",
       "      <td>8/2/89</td>\n",
       "      <td>EAST LANSING</td>\n",
       "      <td>MicHIGAN</td>\n",
       "      <td>48823</td>\n",
       "      <td>f0009_06.png</td>\n",
       "    </tr>\n",
       "  </tbody>\n",
       "</table>\n",
       "</div>"
      ],
      "text/plain": [
       "       DATE              CITY     STATE    ZIP    image_name\n",
       "0  08/02/89             FLINT        Mi  48504  f0000_14.png\n",
       "1    8-7-89         Allendale        MI  49401  f0001_41.png\n",
       "2  08-03-89           Holland        Mi  49424  f0004_09.png\n",
       "3    8/3/89  ST. CLAIR SHORES       MI.  48082  f0006_12.png\n",
       "4    8/2/89      EAST LANSING  MicHIGAN  48823  f0009_06.png"
      ]
     },
     "execution_count": 2,
     "metadata": {},
     "output_type": "execute_result"
    }
   ],
   "source": [
    "df1 = pd.read_csv(df1_path)\n",
    "df1.fillna('None', inplace=True)\n",
    "print(df1.shape)\n",
    "df1.head()"
   ]
  },
  {
   "cell_type": "markdown",
   "metadata": {},
   "source": [
    "## TT result:\n"
   ]
  },
  {
   "cell_type": "code",
   "execution_count": 3,
   "metadata": {},
   "outputs": [
    {
     "name": "stdout",
     "output_type": "stream",
     "text": [
      "(2100, 9)\n"
     ]
    },
    {
     "data": {
      "text/html": [
       "<div>\n",
       "<style scoped>\n",
       "    .dataframe tbody tr th:only-of-type {\n",
       "        vertical-align: middle;\n",
       "    }\n",
       "\n",
       "    .dataframe tbody tr th {\n",
       "        vertical-align: top;\n",
       "    }\n",
       "\n",
       "    .dataframe thead th {\n",
       "        text-align: right;\n",
       "    }\n",
       "</style>\n",
       "<table border=\"1\" class=\"dataframe\">\n",
       "  <thead>\n",
       "    <tr style=\"text-align: right;\">\n",
       "      <th></th>\n",
       "      <th>image_name</th>\n",
       "      <th>DATE</th>\n",
       "      <th>DATE__CONFIDENCE</th>\n",
       "      <th>CITY</th>\n",
       "      <th>CITY__CONFIDENCE</th>\n",
       "      <th>STATE</th>\n",
       "      <th>STATE_CONFIDENCE</th>\n",
       "      <th>ZIP</th>\n",
       "      <th>ZIP_CONFIDENCE</th>\n",
       "    </tr>\n",
       "  </thead>\n",
       "  <tbody>\n",
       "    <tr>\n",
       "      <th>0</th>\n",
       "      <td>f0000_14.png</td>\n",
       "      <td>08/02/89</td>\n",
       "      <td>88.97464</td>\n",
       "      <td>FLiNT</td>\n",
       "      <td>86.739792</td>\n",
       "      <td>Mi</td>\n",
       "      <td>80.102089</td>\n",
       "      <td>48504</td>\n",
       "      <td>73.823257</td>\n",
       "    </tr>\n",
       "    <tr>\n",
       "      <th>1</th>\n",
       "      <td>f0001_41.png</td>\n",
       "      <td>8-7-89</td>\n",
       "      <td>87.28508</td>\n",
       "      <td>Allendale</td>\n",
       "      <td>89.946899</td>\n",
       "      <td>MI</td>\n",
       "      <td>82.12265</td>\n",
       "      <td>49401</td>\n",
       "      <td>77.600266</td>\n",
       "    </tr>\n",
       "    <tr>\n",
       "      <th>2</th>\n",
       "      <td>f0002_01.png</td>\n",
       "      <td>8-3-89</td>\n",
       "      <td>81.038841</td>\n",
       "      <td>MINDEN CITY</td>\n",
       "      <td>80.873611</td>\n",
       "      <td>mi</td>\n",
       "      <td>35.721474</td>\n",
       "      <td>48456</td>\n",
       "      <td>37.457157</td>\n",
       "    </tr>\n",
       "    <tr>\n",
       "      <th>3</th>\n",
       "      <td>f0003_42.png</td>\n",
       "      <td>08-03-89</td>\n",
       "      <td>87.377403</td>\n",
       "      <td>Charlotte</td>\n",
       "      <td>80.985222</td>\n",
       "      <td>MI</td>\n",
       "      <td>77.612007</td>\n",
       "      <td>48813</td>\n",
       "      <td>71.598038</td>\n",
       "    </tr>\n",
       "    <tr>\n",
       "      <th>4</th>\n",
       "      <td>f0004_09.png</td>\n",
       "      <td>08-03-89</td>\n",
       "      <td>89.594048</td>\n",
       "      <td>Holland</td>\n",
       "      <td>80.345238</td>\n",
       "      <td>Mi</td>\n",
       "      <td>62.762756</td>\n",
       "      <td>49424</td>\n",
       "      <td>58.702671</td>\n",
       "    </tr>\n",
       "  </tbody>\n",
       "</table>\n",
       "</div>"
      ],
      "text/plain": [
       "     image_name      DATE DATE__CONFIDENCE         CITY CITY__CONFIDENCE  \\\n",
       "0  f0000_14.png  08/02/89         88.97464        FLiNT        86.739792   \n",
       "1  f0001_41.png    8-7-89         87.28508    Allendale        89.946899   \n",
       "2  f0002_01.png    8-3-89        81.038841  MINDEN CITY        80.873611   \n",
       "3  f0003_42.png  08-03-89        87.377403    Charlotte        80.985222   \n",
       "4  f0004_09.png  08-03-89        89.594048      Holland        80.345238   \n",
       "\n",
       "  STATE STATE_CONFIDENCE    ZIP ZIP_CONFIDENCE  \n",
       "0    Mi        80.102089  48504      73.823257  \n",
       "1    MI         82.12265  49401      77.600266  \n",
       "2    mi        35.721474  48456      37.457157  \n",
       "3    MI        77.612007  48813      71.598038  \n",
       "4    Mi        62.762756  49424      58.702671  "
      ]
     },
     "execution_count": 3,
     "metadata": {},
     "output_type": "execute_result"
    }
   ],
   "source": [
    "df2 = pd.read_csv(df2_path)\n",
    "df2.fillna('None', inplace=True)\n",
    "print(df2.shape)\n",
    "df2.head()"
   ]
  },
  {
   "cell_type": "markdown",
   "metadata": {},
   "source": [
    "# Donut + TT + GPU"
   ]
  },
  {
   "cell_type": "code",
   "execution_count": 4,
   "metadata": {},
   "outputs": [],
   "source": [
    "def clean_jsons(json1, json2):\n",
    "    \n",
    "    prompt = f\"\"\"Use the following examples of JSONs to \n",
    "    convert the two input JSONs delimited by triple backticks into one output JSON.\n",
    "\n",
    "    example1: \n",
    "    \n",
    "    JSON1 = {{'DATE': '8-10-89', 'CITY': None, 'STATE': 'Sacramento Ca', 'ZIP': '95841'}}\n",
    "    JSON2 = {{'DATE': '8-10-89', 'CITY': 'Sacrament', 'STATE': 'None', 'ZIP': 'Ca95841'}}\n",
    "\n",
    "    OUTPUT_JSON = {{'DATE': 'Sacramento', 'CITY': 'Sacramento', 'STATE': 'Ca', 'ZIP': '95841'}}\n",
    "    \n",
    "    example2: \n",
    "\n",
    "    JSON1 = {{'DATE': '9-21-89', 'CITY': 'Sonora, Texas', 'STATE': '76950', 'ZIP': None}}\n",
    "    JSON2 = {{'DATE': '9-21-89', 'CITY': 'Sonora,', 'STATE': 'Texas 76950', 'ZIP': None}}\n",
    "\n",
    "    OUTPUT_JSON = {{'DATE': '9-21-89', 'CITY': 'Sonora', 'STATE': 'Texas', 'ZIP': '76950'}}\n",
    "    \n",
    "    \n",
    "    example3: \n",
    "\n",
    "    JSON1 = {{'DATE': '9/27/89', 'CITY': 'Austin', 'STATE': 'MN', 'ZIP': '55912'}}\n",
    "    JSON2 = {{'DATE': '9/27/89', 'CITY': 'Austin', 'STATE': 'MN', 'ZIP': '55412'}}\n",
    "\n",
    "    OUTPUT_JSON = {{'DATE': '9/27/89', 'CITY': 'Austin', 'STATE': 'MN', 'ZIP': '55912'}}\n",
    "    \n",
    "    example4: \n",
    "    \n",
    "    JSON1 = {{'DATE': '09-17-89', 'CITY': 'Brownsville', 'STATE': 'TX. 78521', 'ZIP': None}}\n",
    "    JSON2 = {{'DATE': '09-17-89', 'CITY': 'BROWnsville', 'STATE': None, 'ZIP': None}}\n",
    "\n",
    "    OUTPUT_JSON = {{'DATE': '09-17-89', 'CITY': 'BROWnsville', 'STATE': 'TX.', 'ZIP': '78521'}}\n",
    "    \n",
    "    \n",
    "    example5: \n",
    "    \n",
    "    JSON1 = {{'DATE': 'Aug. 4,1989', 'CITY': 'Marietta, Ohio', 'STATE': '45754', 'ZIP': None}}\n",
    "    JSON2 = {{'DATE': 'Aug. 4,1989', 'CITY': 'Marietta, Ohio', 'STATE': 'None', 'ZIP': '45754'}}\n",
    "\n",
    "    OUTPUT_JSON = {{'DATE': 'Aug. 4,1989', 'CITY': 'Marietta', 'STATE': 'Ohio', 'ZIP': '45754'}}\n",
    "    \n",
    "\n",
    "    Make sure that the CITY is in the correct STATE.\n",
    "    Make sure that the STATE is in the correct CITY. \n",
    "    STATE value cannot and should not contain any numbers or digits.\n",
    "    Don't change the STATE value from abbreviation to complete format.\n",
    "    ZIP is zip code and contains only numbers. If you got a ZIP with a punctuation remove the punctuation.\n",
    "    ZIP is zip code and does not contain /, and / must be changed to 1.\n",
    "    \n",
    "    In the STATE field, if you got two words and the second one was an abbreviation of a \n",
    "    state name in the United States of America, the first word should be part of the  CITY field.\n",
    "    Similar to example5\n",
    "    \n",
    "    example5: \n",
    "    \n",
    "    JSON1 = {{'DATE': '9/11/89', 'CITY': 'Richland', 'STATE': 'Center Wi 53581', 'ZIP': None}}\n",
    "    JSON2 = {{'DATE': '9/4189', 'CITY': 'Rich land', 'STATE': 'Center Wi', 'ZIP': '53581'}}\n",
    "\n",
    "    OUTPUT_JSON = {{'DATE': '9/21/89', 'CITY': 'Richland Center', 'STATE': 'Wi', 'ZIP': '53581'}}\n",
    "    \n",
    "    YOU MUST FOLLOW THE NEXT 8 RULS:\n",
    "    \n",
    "    0. DO NOT CHANGE LETTER CASING OF THE INPUT.\n",
    "    \n",
    "    1. If the STATE field had a sequence of numbers, they must be moved to the ZIP field. \n",
    "    \n",
    "    2. If the STATE field appears as the full version of the state name and not the abbreviation, keep the full version.     \n",
    "    \n",
    "    3. If the STATE field letters apears as capitalised, DO NOT convert the letters to small letters. \n",
    "    \n",
    "    4. If the CITY field letters are capitalised, DO NOT convert the letters to small letters and They MUST kepet as capitalised.\n",
    "    \n",
    "    5. DO NOT convert the letters from upper case to lower case. DO NOT change lower case to upper case. \n",
    "    \n",
    "    6. Check the validity of values in the STATE and CITY fields. For example, if the value for the CITY was \"ROMEOUILLE\" and the value for the STATE field was \"ILL\",  then the correct spelling for the  CITY field should be \"ROMEOVILLE\". In such cases, correct the spelling of the CITY field. \n",
    "\n",
    "    7. Check the validity of values in the STATE and CITY fields. For example, if the value for the CITY was \"New York City\" and the STATE field was \"NU\" filed the spelling for the STATE field and update it to \"NY\".\n",
    "    \n",
    "    OUTPUT_JSON:\n",
    "    Format your response as a JSON object with all four `keys'.\n",
    "    OUTPUT_JSON reply MUST be a single json with the following KEYS:\n",
    "\n",
    "    - DATE\n",
    "    - CITY\n",
    "    - STATE\n",
    "    - ZIP\n",
    "    \n",
    "    REPLY ONLY A SINGLE JSON WITH: DATE, CITY ,STATE, ZIP OR I WILL KILL YOU\n",
    "    REPLY ONLY A SINGLE JSON WITH: DATE, CITY ,STATE, ZIP OR I WILL KILL YOU\n",
    "    IF YOU CANT MAKE IT TO ONE JSON JUST RETURN THE json2\n",
    "    Return a single json and don not assign a name to it like `OUTPUT_JSON =`. \n",
    "    Return a single json that it can be loaded using json.loads(YOUR_RESULT) in python.\n",
    "    \n",
    "    text: ```JSON1 = {json1}, JSON1 = {json2}```\n",
    "    \"\"\"\n",
    "\n",
    "    return get_completion(prompt)"
   ]
  },
  {
   "cell_type": "code",
   "execution_count": 5,
   "metadata": {},
   "outputs": [],
   "source": [
    "def clean_dicts_(input_image_name):\n",
    "    \n",
    "    # collect the JSONS\n",
    "    df_1 = df1[df1.image_name == input_image_name]\n",
    "    df_2 = df2[df2.image_name == input_image_name]\n",
    "    \n",
    "    # make sure they both JSONS have all the keys\n",
    "    dict1 = init_json(df_1)\n",
    "    dict2 = init_json(df_2)\n",
    "    \n",
    "    # creat the promet\n",
    "    dict_ = clean_jsons(dict1, dict2)\n",
    "    dict3 = json.loads(dict_)\n",
    "    \n",
    "    return dict1, dict2, dict3\n",
    "\n",
    "async def run_function_with_retry(def_to_run, \n",
    "                                  input_image_name,\n",
    "                                  max_retry_count= 2,\n",
    "                                  retry_interval= 1):\n",
    "\n",
    "    for retry in range(max_retry_count):\n",
    "        loop = asyncio.get_event_loop()\n",
    "        with concurrent.futures.ThreadPoolExecutor() as pool:\n",
    "            try:\n",
    "                future = pool.submit(def_to_run, input_image_name)\n",
    "                result = await asyncio.wait_for(loop.run_in_executor(None, future.result), timeout=10)\n",
    "                return result \n",
    "                break\n",
    "            except asyncio.TimeoutError:\n",
    "                print(\"Function didn't finish in time. Retrying...\")\n",
    "            except concurrent.futures.TimeoutError:\n",
    "                print(\"Concurrent Future didn't finish in time. Retrying...\")\n",
    "            await asyncio.sleep(retry_interval)\n",
    "    else:\n",
    "        print(\"Function didn't finish within retry attempts.\")"
   ]
  },
  {
   "cell_type": "code",
   "execution_count": 6,
   "metadata": {
    "scrolled": true
   },
   "outputs": [
    {
     "name": "stderr",
     "output_type": "stream",
     "text": [
      " 91%|██████████████████████████████████████████████████████████████████████████████████████████████████████████████████████████████████████████████▏              | 453/500 [18:13<01:34,  2.02s/it]"
     ]
    },
    {
     "name": "stdout",
     "output_type": "stream",
     "text": [
      "Function didn't finish in time. Retrying...\n"
     ]
    },
    {
     "name": "stderr",
     "output_type": "stream",
     "text": [
      "100%|█████████████████████████████████████████████████████████████████████████████████████████████████████████████████████████████████████████████████████████████| 500/500 [30:06<00:00,  3.61s/it]\n"
     ]
    }
   ],
   "source": [
    "error_list = []\n",
    "result_list = []\n",
    "for i in tqdm(df1.image_name.to_list()):\n",
    "    try:\n",
    "        loop = asyncio.get_event_loop()\n",
    "        dict1, dict2, dict3  = loop.run_until_complete(run_function_with_retry(clean_dicts_, i))\n",
    "        dict3['image_name'] = i\n",
    "        result_list.append(dict3)\n",
    "\n",
    "    except Exception as e:\n",
    "        print(str(e))\n",
    "        error_list.append(i)\n",
    "    "
   ]
  },
  {
   "cell_type": "code",
   "execution_count": 7,
   "metadata": {},
   "outputs": [
    {
     "data": {
      "text/plain": [
       "0"
      ]
     },
     "execution_count": 7,
     "metadata": {},
     "output_type": "execute_result"
    }
   ],
   "source": [
    "len(error_list)"
   ]
  },
  {
   "cell_type": "code",
   "execution_count": 8,
   "metadata": {},
   "outputs": [
    {
     "name": "stdout",
     "output_type": "stream",
     "text": [
      "(500, 5)\n"
     ]
    },
    {
     "data": {
      "text/html": [
       "<div>\n",
       "<style scoped>\n",
       "    .dataframe tbody tr th:only-of-type {\n",
       "        vertical-align: middle;\n",
       "    }\n",
       "\n",
       "    .dataframe tbody tr th {\n",
       "        vertical-align: top;\n",
       "    }\n",
       "\n",
       "    .dataframe thead th {\n",
       "        text-align: right;\n",
       "    }\n",
       "</style>\n",
       "<table border=\"1\" class=\"dataframe\">\n",
       "  <thead>\n",
       "    <tr style=\"text-align: right;\">\n",
       "      <th></th>\n",
       "      <th>DATE</th>\n",
       "      <th>CITY</th>\n",
       "      <th>STATE</th>\n",
       "      <th>ZIP</th>\n",
       "      <th>image_name</th>\n",
       "    </tr>\n",
       "  </thead>\n",
       "  <tbody>\n",
       "    <tr>\n",
       "      <th>0</th>\n",
       "      <td>08/02/89</td>\n",
       "      <td>FLINT</td>\n",
       "      <td>Mi</td>\n",
       "      <td>48504</td>\n",
       "      <td>f0000_14.png</td>\n",
       "    </tr>\n",
       "    <tr>\n",
       "      <th>1</th>\n",
       "      <td>8-7-89</td>\n",
       "      <td>Allendale</td>\n",
       "      <td>MI</td>\n",
       "      <td>49401</td>\n",
       "      <td>f0001_41.png</td>\n",
       "    </tr>\n",
       "  </tbody>\n",
       "</table>\n",
       "</div>"
      ],
      "text/plain": [
       "       DATE       CITY STATE    ZIP    image_name\n",
       "0  08/02/89      FLINT    Mi  48504  f0000_14.png\n",
       "1    8-7-89  Allendale    MI  49401  f0001_41.png"
      ]
     },
     "execution_count": 8,
     "metadata": {},
     "output_type": "execute_result"
    }
   ],
   "source": [
    "df_gpt = pd.DataFrame(result_list)\n",
    "print(df_gpt.shape)\n",
    "df_gpt.head(2)"
   ]
  },
  {
   "cell_type": "code",
   "execution_count": 9,
   "metadata": {},
   "outputs": [
    {
     "name": "stderr",
     "output_type": "stream",
     "text": [
      "0it [00:00, ?it/s]\n"
     ]
    }
   ],
   "source": [
    "error_list_2 = []\n",
    "for i in tqdm(error_list):\n",
    "    try:\n",
    "        loop = asyncio.get_event_loop()\n",
    "        dict1, dict2, dict3  = loop.run_until_complete(run_function_with_retry(clean_dicts_, i))\n",
    "        dict3['image_name'] = i\n",
    "        result_list.append(dict3)\n",
    "\n",
    "    except Exception as e:\n",
    "        print(str(e))\n",
    "        error_list_2.append(i)"
   ]
  },
  {
   "cell_type": "code",
   "execution_count": 10,
   "metadata": {},
   "outputs": [
    {
     "name": "stdout",
     "output_type": "stream",
     "text": [
      "(500, 5)\n"
     ]
    },
    {
     "data": {
      "text/html": [
       "<div>\n",
       "<style scoped>\n",
       "    .dataframe tbody tr th:only-of-type {\n",
       "        vertical-align: middle;\n",
       "    }\n",
       "\n",
       "    .dataframe tbody tr th {\n",
       "        vertical-align: top;\n",
       "    }\n",
       "\n",
       "    .dataframe thead th {\n",
       "        text-align: right;\n",
       "    }\n",
       "</style>\n",
       "<table border=\"1\" class=\"dataframe\">\n",
       "  <thead>\n",
       "    <tr style=\"text-align: right;\">\n",
       "      <th></th>\n",
       "      <th>DATE</th>\n",
       "      <th>CITY</th>\n",
       "      <th>STATE</th>\n",
       "      <th>ZIP</th>\n",
       "      <th>image_name</th>\n",
       "    </tr>\n",
       "  </thead>\n",
       "  <tbody>\n",
       "    <tr>\n",
       "      <th>0</th>\n",
       "      <td>08/02/89</td>\n",
       "      <td>FLINT</td>\n",
       "      <td>Mi</td>\n",
       "      <td>48504</td>\n",
       "      <td>f0000_14.png</td>\n",
       "    </tr>\n",
       "    <tr>\n",
       "      <th>1</th>\n",
       "      <td>8-7-89</td>\n",
       "      <td>Allendale</td>\n",
       "      <td>MI</td>\n",
       "      <td>49401</td>\n",
       "      <td>f0001_41.png</td>\n",
       "    </tr>\n",
       "  </tbody>\n",
       "</table>\n",
       "</div>"
      ],
      "text/plain": [
       "       DATE       CITY STATE    ZIP    image_name\n",
       "0  08/02/89      FLINT    Mi  48504  f0000_14.png\n",
       "1    8-7-89  Allendale    MI  49401  f0001_41.png"
      ]
     },
     "execution_count": 10,
     "metadata": {},
     "output_type": "execute_result"
    }
   ],
   "source": [
    "df_gpt = pd.DataFrame(result_list)\n",
    "df_gpt.drop_duplicates(inplace = True)\n",
    "print(df_gpt.shape)\n",
    "df_gpt.head(2)"
   ]
  },
  {
   "cell_type": "code",
   "execution_count": 11,
   "metadata": {},
   "outputs": [],
   "source": [
    "df_gpt.to_csv(output_path, index = False)"
   ]
  }
 ],
 "metadata": {
  "kernelspec": {
   "display_name": "orc37",
   "language": "python",
   "name": "orc37"
  },
  "language_info": {
   "codemirror_mode": {
    "name": "ipython",
    "version": 3
   },
   "file_extension": ".py",
   "mimetype": "text/x-python",
   "name": "python",
   "nbconvert_exporter": "python",
   "pygments_lexer": "ipython3",
   "version": "3.7.16"
  },
  "toc": {
   "base_numbering": 1,
   "nav_menu": {},
   "number_sections": true,
   "sideBar": true,
   "skip_h1_title": false,
   "title_cell": "Table of Contents",
   "title_sidebar": "Contents",
   "toc_cell": false,
   "toc_position": {},
   "toc_section_display": true,
   "toc_window_display": false
  }
 },
 "nbformat": 4,
 "nbformat_minor": 4
}
