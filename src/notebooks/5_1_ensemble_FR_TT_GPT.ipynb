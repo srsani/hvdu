{
 "cells": [
  {
   "cell_type": "code",
   "execution_count": 1,
   "metadata": {},
   "outputs": [
    {
     "data": {
      "text/html": [
       "<style>.container { width:80% !important; }</style>"
      ],
      "text/plain": [
       "<IPython.core.display.HTML object>"
      ]
     },
     "metadata": {},
     "output_type": "display_data"
    }
   ],
   "source": [
    "from utilities import * \n",
    "from IPython.display import display, HTML\n",
    "display(HTML(\"<style>.container { width:80% !important; }</style>\"))\n",
    "%load_ext autoreload\n",
    "%autoreload 2\n",
    "nest_asyncio.apply()\n",
    "\n",
    "df1_path = '../dataset/result/nist_form/20230905081756/test_pred.csv'\n",
    "df2_path = '../dataset/raw/nist/aws_cleaned.csv'"
   ]
  },
  {
   "cell_type": "markdown",
   "metadata": {},
   "source": [
    "## Donut result:"
   ]
  },
  {
   "cell_type": "code",
   "execution_count": 2,
   "metadata": {},
   "outputs": [
    {
     "name": "stdout",
     "output_type": "stream",
     "text": [
      "(500, 6)\n"
     ]
    },
    {
     "data": {
      "text/html": [
       "<div>\n",
       "<style scoped>\n",
       "    .dataframe tbody tr th:only-of-type {\n",
       "        vertical-align: middle;\n",
       "    }\n",
       "\n",
       "    .dataframe tbody tr th {\n",
       "        vertical-align: top;\n",
       "    }\n",
       "\n",
       "    .dataframe thead th {\n",
       "        text-align: right;\n",
       "    }\n",
       "</style>\n",
       "<table border=\"1\" class=\"dataframe\">\n",
       "  <thead>\n",
       "    <tr style=\"text-align: right;\">\n",
       "      <th></th>\n",
       "      <th>DATE</th>\n",
       "      <th>CITY</th>\n",
       "      <th>STATE</th>\n",
       "      <th>ZIP</th>\n",
       "      <th>image_name</th>\n",
       "      <th>text_sequence</th>\n",
       "    </tr>\n",
       "  </thead>\n",
       "  <tbody>\n",
       "    <tr>\n",
       "      <th>0</th>\n",
       "      <td>08/02/89</td>\n",
       "      <td>FLINT</td>\n",
       "      <td>Mi</td>\n",
       "      <td>48504</td>\n",
       "      <td>f0000_14.png</td>\n",
       "      <td>None</td>\n",
       "    </tr>\n",
       "    <tr>\n",
       "      <th>1</th>\n",
       "      <td>8-7-89</td>\n",
       "      <td>Allendale</td>\n",
       "      <td>MI</td>\n",
       "      <td>49401</td>\n",
       "      <td>f0001_41.png</td>\n",
       "      <td>None</td>\n",
       "    </tr>\n",
       "    <tr>\n",
       "      <th>2</th>\n",
       "      <td>08-03-89</td>\n",
       "      <td>Holland</td>\n",
       "      <td>Mi</td>\n",
       "      <td>49424</td>\n",
       "      <td>f0004_09.png</td>\n",
       "      <td>None</td>\n",
       "    </tr>\n",
       "    <tr>\n",
       "      <th>3</th>\n",
       "      <td>8/3/89</td>\n",
       "      <td>ST. CLAIR SHORES</td>\n",
       "      <td>MI.</td>\n",
       "      <td>48082</td>\n",
       "      <td>f0006_12.png</td>\n",
       "      <td>None</td>\n",
       "    </tr>\n",
       "    <tr>\n",
       "      <th>4</th>\n",
       "      <td>8/2/89</td>\n",
       "      <td>EAST LANSING</td>\n",
       "      <td>MicHIGAN</td>\n",
       "      <td>48823</td>\n",
       "      <td>f0009_06.png</td>\n",
       "      <td>None</td>\n",
       "    </tr>\n",
       "  </tbody>\n",
       "</table>\n",
       "</div>"
      ],
      "text/plain": [
       "       DATE              CITY     STATE    ZIP    image_name text_sequence\n",
       "0  08/02/89             FLINT        Mi  48504  f0000_14.png          None\n",
       "1    8-7-89         Allendale        MI  49401  f0001_41.png          None\n",
       "2  08-03-89           Holland        Mi  49424  f0004_09.png          None\n",
       "3    8/3/89  ST. CLAIR SHORES       MI.  48082  f0006_12.png          None\n",
       "4    8/2/89      EAST LANSING  MicHIGAN  48823  f0009_06.png          None"
      ]
     },
     "execution_count": 2,
     "metadata": {},
     "output_type": "execute_result"
    }
   ],
   "source": [
    "df1 = pd.read_csv(df1_path)\n",
    "df1.fillna('None', inplace=True)\n",
    "print(df1.shape)\n",
    "df1.head()"
   ]
  },
  {
   "cell_type": "markdown",
   "metadata": {},
   "source": [
    "## TT result:\n"
   ]
  },
  {
   "cell_type": "code",
   "execution_count": 3,
   "metadata": {},
   "outputs": [
    {
     "name": "stdout",
     "output_type": "stream",
     "text": [
      "(2100, 9)\n"
     ]
    },
    {
     "data": {
      "text/html": [
       "<div>\n",
       "<style scoped>\n",
       "    .dataframe tbody tr th:only-of-type {\n",
       "        vertical-align: middle;\n",
       "    }\n",
       "\n",
       "    .dataframe tbody tr th {\n",
       "        vertical-align: top;\n",
       "    }\n",
       "\n",
       "    .dataframe thead th {\n",
       "        text-align: right;\n",
       "    }\n",
       "</style>\n",
       "<table border=\"1\" class=\"dataframe\">\n",
       "  <thead>\n",
       "    <tr style=\"text-align: right;\">\n",
       "      <th></th>\n",
       "      <th>image_name</th>\n",
       "      <th>DATE</th>\n",
       "      <th>DATE__CONFIDENCE</th>\n",
       "      <th>CITY</th>\n",
       "      <th>CITY__CONFIDENCE</th>\n",
       "      <th>STATE</th>\n",
       "      <th>STATE_CONFIDENCE</th>\n",
       "      <th>ZIP</th>\n",
       "      <th>ZIP_CONFIDENCE</th>\n",
       "    </tr>\n",
       "  </thead>\n",
       "  <tbody>\n",
       "    <tr>\n",
       "      <th>0</th>\n",
       "      <td>f0000_14.png</td>\n",
       "      <td>08/02/89</td>\n",
       "      <td>88.97464</td>\n",
       "      <td>FLiNT</td>\n",
       "      <td>86.739792</td>\n",
       "      <td>Mi</td>\n",
       "      <td>80.102089</td>\n",
       "      <td>48504</td>\n",
       "      <td>73.823257</td>\n",
       "    </tr>\n",
       "    <tr>\n",
       "      <th>1</th>\n",
       "      <td>f0001_41.png</td>\n",
       "      <td>8-7-89</td>\n",
       "      <td>87.28508</td>\n",
       "      <td>Allendale</td>\n",
       "      <td>89.946899</td>\n",
       "      <td>MI</td>\n",
       "      <td>82.12265</td>\n",
       "      <td>49401</td>\n",
       "      <td>77.600266</td>\n",
       "    </tr>\n",
       "    <tr>\n",
       "      <th>2</th>\n",
       "      <td>f0002_01.png</td>\n",
       "      <td>8-3-89</td>\n",
       "      <td>81.038841</td>\n",
       "      <td>MINDEN CITY</td>\n",
       "      <td>80.873611</td>\n",
       "      <td>mi</td>\n",
       "      <td>35.721474</td>\n",
       "      <td>48456</td>\n",
       "      <td>37.457157</td>\n",
       "    </tr>\n",
       "    <tr>\n",
       "      <th>3</th>\n",
       "      <td>f0003_42.png</td>\n",
       "      <td>08-03-89</td>\n",
       "      <td>87.377403</td>\n",
       "      <td>Charlotte</td>\n",
       "      <td>80.985222</td>\n",
       "      <td>MI</td>\n",
       "      <td>77.612007</td>\n",
       "      <td>48813</td>\n",
       "      <td>71.598038</td>\n",
       "    </tr>\n",
       "    <tr>\n",
       "      <th>4</th>\n",
       "      <td>f0004_09.png</td>\n",
       "      <td>08-03-89</td>\n",
       "      <td>89.594048</td>\n",
       "      <td>Holland</td>\n",
       "      <td>80.345238</td>\n",
       "      <td>Mi</td>\n",
       "      <td>62.762756</td>\n",
       "      <td>49424</td>\n",
       "      <td>58.702671</td>\n",
       "    </tr>\n",
       "  </tbody>\n",
       "</table>\n",
       "</div>"
      ],
      "text/plain": [
       "     image_name      DATE DATE__CONFIDENCE         CITY CITY__CONFIDENCE  \\\n",
       "0  f0000_14.png  08/02/89         88.97464        FLiNT        86.739792   \n",
       "1  f0001_41.png    8-7-89         87.28508    Allendale        89.946899   \n",
       "2  f0002_01.png    8-3-89        81.038841  MINDEN CITY        80.873611   \n",
       "3  f0003_42.png  08-03-89        87.377403    Charlotte        80.985222   \n",
       "4  f0004_09.png  08-03-89        89.594048      Holland        80.345238   \n",
       "\n",
       "  STATE STATE_CONFIDENCE    ZIP ZIP_CONFIDENCE  \n",
       "0    Mi        80.102089  48504      73.823257  \n",
       "1    MI         82.12265  49401      77.600266  \n",
       "2    mi        35.721474  48456      37.457157  \n",
       "3    MI        77.612007  48813      71.598038  \n",
       "4    Mi        62.762756  49424      58.702671  "
      ]
     },
     "execution_count": 3,
     "metadata": {},
     "output_type": "execute_result"
    }
   ],
   "source": [
    "df2 = pd.read_csv(df2_path)\n",
    "df2.fillna('None', inplace=True)\n",
    "print(df2.shape)\n",
    "df2.head()"
   ]
  },
  {
   "cell_type": "markdown",
   "metadata": {},
   "source": [
    "# Donut + TT + GPU"
   ]
  },
  {
   "cell_type": "code",
   "execution_count": 9,
   "metadata": {},
   "outputs": [],
   "source": [
    "def clean_dicts_(input_image_name):\n",
    "    \n",
    "    # collect the JSONS\n",
    "    df_1 = df1[df1.image_name == input_image_name]\n",
    "    df_2 = df2[df2.image_name == input_image_name]\n",
    "    \n",
    "    # make sure they both JSONS have all the keys\n",
    "    dict1 = init_json(df_1)\n",
    "    dict2 = init_json(df_2)\n",
    "    \n",
    "    # creat the promet\n",
    "    prompt = create_prompt(dict1, dict2, prefix_prompt, postfix_prompt, example_dict)\n",
    "    \n",
    "    dict_ = get_completion(prompt)\n",
    "    dict3 = json.loads(dict_)\n",
    "    \n",
    "    get_completion(prompt)\n",
    "    \n",
    "    return dict1, dict2, dict3\n",
    "\n",
    "async def run_function_with_retry(def_to_run, \n",
    "                                  input_image_name,\n",
    "                                  max_retry_count= 2,\n",
    "                                  retry_interval= 1):\n",
    "\n",
    "    for retry in range(max_retry_count):\n",
    "        loop = asyncio.get_event_loop()\n",
    "        with concurrent.futures.ThreadPoolExecutor() as pool:\n",
    "            try:\n",
    "                future = pool.submit(def_to_run, input_image_name)\n",
    "                result = await asyncio.wait_for(loop.run_in_executor(None, future.result), timeout=10)\n",
    "                return result \n",
    "                break\n",
    "            except asyncio.TimeoutError:\n",
    "                print(\"Function didn't finish in time. Retrying...\")\n",
    "            except concurrent.futures.TimeoutError:\n",
    "                print(\"Concurrent Future didn't finish in time. Retrying...\")\n",
    "            await asyncio.sleep(retry_interval)\n",
    "    else:\n",
    "        print(\"Function didn't finish within retry attempts.\")"
   ]
  },
  {
   "cell_type": "code",
   "execution_count": 10,
   "metadata": {
    "scrolled": true
   },
   "outputs": [
    {
     "name": "stderr",
     "output_type": "stream",
     "text": [
      " 25%|██████████████████████████████████████▌                                                                                                                      | 123/500 [07:08<21:38,  3.44s/it]"
     ]
    },
    {
     "name": "stdout",
     "output_type": "stream",
     "text": [
      "Function didn't finish in time. Retrying...\n"
     ]
    },
    {
     "name": "stderr",
     "output_type": "stream",
     "text": [
      " 26%|███████████████████████████████████████▉                                                                                                                   | 129/500 [17:29<3:28:32, 33.73s/it]"
     ]
    },
    {
     "name": "stdout",
     "output_type": "stream",
     "text": [
      "Function didn't finish in time. Retrying...\n"
     ]
    },
    {
     "name": "stderr",
     "output_type": "stream",
     "text": [
      " 35%|██████████████████████████████████████████████████████▎                                                                                                      | 173/500 [30:01<18:02,  3.31s/it]"
     ]
    },
    {
     "name": "stdout",
     "output_type": "stream",
     "text": [
      "Function didn't finish in time. Retrying...\n"
     ]
    },
    {
     "name": "stderr",
     "output_type": "stream",
     "text": [
      " 75%|█████████████████████████████████████████████████████████████████████████████████████████████████████████████████████▊                                       | 375/500 [52:49<07:22,  3.54s/it]"
     ]
    },
    {
     "name": "stdout",
     "output_type": "stream",
     "text": [
      "Function didn't finish in time. Retrying...\n"
     ]
    },
    {
     "name": "stderr",
     "output_type": "stream",
     "text": [
      "100%|███████████████████████████████████████████████████████████████████████████████████████████████████████████████████████████████████████████████████████████| 500/500 [1:09:50<00:00,  8.38s/it]\n"
     ]
    }
   ],
   "source": [
    "error_list = []\n",
    "result_list = []\n",
    "for i in tqdm(df1.image_name.to_list()):\n",
    "    try:\n",
    "        loop = asyncio.get_event_loop()\n",
    "        dict1, dict2, dict3  = loop.run_until_complete(run_function_with_retry(clean_dicts_, i))\n",
    "        dict3['image_name'] = i\n",
    "        result_list.append(dict3)\n",
    "\n",
    "    except Exception as e:\n",
    "        print(str(e))\n",
    "        error_list.append(i)\n",
    "    "
   ]
  },
  {
   "cell_type": "code",
   "execution_count": 11,
   "metadata": {},
   "outputs": [
    {
     "name": "stdout",
     "output_type": "stream",
     "text": [
      "(500, 5)\n"
     ]
    },
    {
     "data": {
      "text/html": [
       "<div>\n",
       "<style scoped>\n",
       "    .dataframe tbody tr th:only-of-type {\n",
       "        vertical-align: middle;\n",
       "    }\n",
       "\n",
       "    .dataframe tbody tr th {\n",
       "        vertical-align: top;\n",
       "    }\n",
       "\n",
       "    .dataframe thead th {\n",
       "        text-align: right;\n",
       "    }\n",
       "</style>\n",
       "<table border=\"1\" class=\"dataframe\">\n",
       "  <thead>\n",
       "    <tr style=\"text-align: right;\">\n",
       "      <th></th>\n",
       "      <th>DATE</th>\n",
       "      <th>CITY</th>\n",
       "      <th>STATE</th>\n",
       "      <th>ZIP</th>\n",
       "      <th>image_name</th>\n",
       "    </tr>\n",
       "  </thead>\n",
       "  <tbody>\n",
       "    <tr>\n",
       "      <th>0</th>\n",
       "      <td>08/02/89</td>\n",
       "      <td>FLINT</td>\n",
       "      <td>MI</td>\n",
       "      <td>48504</td>\n",
       "      <td>f0000_14.png</td>\n",
       "    </tr>\n",
       "    <tr>\n",
       "      <th>1</th>\n",
       "      <td>8-7-89</td>\n",
       "      <td>Allendale</td>\n",
       "      <td>MI</td>\n",
       "      <td>49401</td>\n",
       "      <td>f0001_41.png</td>\n",
       "    </tr>\n",
       "  </tbody>\n",
       "</table>\n",
       "</div>"
      ],
      "text/plain": [
       "       DATE       CITY STATE    ZIP    image_name\n",
       "0  08/02/89      FLINT    MI  48504  f0000_14.png\n",
       "1    8-7-89  Allendale    MI  49401  f0001_41.png"
      ]
     },
     "execution_count": 11,
     "metadata": {},
     "output_type": "execute_result"
    }
   ],
   "source": [
    "df_gpt = pd.DataFrame(result_list)\n",
    "print(df_gpt.shape)\n",
    "df_gpt.head(2)"
   ]
  },
  {
   "cell_type": "code",
   "execution_count": null,
   "metadata": {},
   "outputs": [],
   "source": [
    "df_gpt.to_csv('../dataset/raw/nist/donut-tt-gpt.csv', index = False)"
   ]
  },
  {
   "cell_type": "code",
   "execution_count": null,
   "metadata": {},
   "outputs": [],
   "source": []
  },
  {
   "cell_type": "code",
   "execution_count": 84,
   "metadata": {},
   "outputs": [
    {
     "data": {
      "text/plain": [
       "['f0050_10.png',\n",
       " 'f0067_25.png',\n",
       " 'f0067_25_11.png',\n",
       " 'f0067_25_13.png',\n",
       " 'f0067_25_15.png',\n",
       " 'f0067_25_17.png',\n",
       " 'f0067_25_18.png',\n",
       " 'f0067_25_28.png',\n",
       " 'f0067_25_3.png']"
      ]
     },
     "execution_count": 84,
     "metadata": {},
     "output_type": "execute_result"
    }
   ],
   "source": [
    "error_list"
   ]
  },
  {
   "cell_type": "code",
   "execution_count": 5,
   "metadata": {},
   "outputs": [],
   "source": [
    "input_image_name = 'f0050_10.png'"
   ]
  },
  {
   "cell_type": "code",
   "execution_count": 6,
   "metadata": {},
   "outputs": [],
   "source": [
    "df_1 = df1[df1.image_name == input_image_name]\n",
    "df_2 = df2[df2.image_name == input_image_name]\n",
    "\n",
    "# make sure they both JSONS have all the keys\n",
    "dict1 = init_json(df_1)\n",
    "dict2 = init_json(df_2)\n",
    "\n",
    "# creat the promet\n",
    "prompt = create_prompt(dict1, dict2, prefix_prompt, postfix_prompt, example_dict)\n",
    "\n",
    "dict_ = get_completion(prompt)"
   ]
  },
  {
   "cell_type": "code",
   "execution_count": 7,
   "metadata": {},
   "outputs": [
    {
     "data": {
      "text/plain": [
       "'{\"DATE\": \"Aug. 4,1989\", \"CITY\": \"Marietta\", \"STATE\": \"Ohio\", \"ZIP\": \"45754\"}'"
      ]
     },
     "execution_count": 7,
     "metadata": {},
     "output_type": "execute_result"
    }
   ],
   "source": [
    "dict_"
   ]
  },
  {
   "cell_type": "code",
   "execution_count": null,
   "metadata": {},
   "outputs": [],
   "source": [
    "prompt"
   ]
  },
  {
   "cell_type": "code",
   "execution_count": null,
   "metadata": {},
   "outputs": [],
   "source": []
  }
 ],
 "metadata": {
  "kernelspec": {
   "display_name": "orc37",
   "language": "python",
   "name": "orc37"
  },
  "language_info": {
   "codemirror_mode": {
    "name": "ipython",
    "version": 3
   },
   "file_extension": ".py",
   "mimetype": "text/x-python",
   "name": "python",
   "nbconvert_exporter": "python",
   "pygments_lexer": "ipython3",
   "version": "3.7.16"
  },
  "toc": {
   "base_numbering": 1,
   "nav_menu": {},
   "number_sections": true,
   "sideBar": true,
   "skip_h1_title": false,
   "title_cell": "Table of Contents",
   "title_sidebar": "Contents",
   "toc_cell": false,
   "toc_position": {},
   "toc_section_display": true,
   "toc_window_display": false
  }
 },
 "nbformat": 4,
 "nbformat_minor": 4
}
